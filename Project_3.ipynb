{
  "nbformat": 4,
  "nbformat_minor": 0,
  "metadata": {
    "kernelspec": {
      "display_name": "Python 3",
      "language": "python",
      "name": "python3"
    },
    "language_info": {
      "codemirror_mode": {
        "name": "ipython",
        "version": 3
      },
      "file_extension": ".py",
      "mimetype": "text/x-python",
      "name": "python",
      "nbconvert_exporter": "python",
      "pygments_lexer": "ipython3",
      "version": "3.7.6"
    },
    "colab": {
      "name": "Project_3.ipynb",
      "provenance": [],
      "collapsed_sections": [
        "oRPvBbM2FktJ",
        "OU72M4B4FkuB",
        "NJEg7NiPFkuq"
      ]
    }
  },
  "cells": [
    {
      "cell_type": "markdown",
      "metadata": {
        "id": "ZmQgsDG5Fkrz"
      },
      "source": [
        "# Data Mining\n",
        "## Apostolopoulou Alexandra (1115201700005)\n",
        "## Project 3η"
      ]
    },
    {
      "cell_type": "code",
      "metadata": {
        "id": "7I2IncoFFkr2"
      },
      "source": [
        "import pandas as pd\n",
        "import string\n",
        "import os\n",
        "import numpy as np\n",
        "from wordcloud import WordCloud, STOPWORDS, ImageColorGenerator\n",
        "from PIL import Image\n",
        "import urllib\n",
        "import requests\n",
        "import matplotlib.pyplot as plt\n",
        "from sklearn.model_selection import train_test_split,cross_val_score\n",
        "from sklearn import svm\n",
        "from sklearn.metrics import roc_curve, auc\n",
        "from sklearn.preprocessing import label_binarize\n",
        "from sklearn.naive_bayes import GaussianNB\n",
        "from sklearn.ensemble import RandomForestClassifier\n",
        "import time\n",
        "import glob\n",
        "import seaborn as sns\n",
        "import matplotlib.pyplot as plt\n",
        "import operator\n",
        "import folium\n",
        "from itertools import cycle, islice\n",
        "from pandas import options\n",
        "import warnings\n",
        "import tables\n",
        "import pickle"
      ],
      "execution_count": null,
      "outputs": []
    },
    {
      "cell_type": "markdown",
      "metadata": {
        "id": "uuYsN4usFksA"
      },
      "source": [
        "First, we load and save train.csv and test.csv files."
      ]
    },
    {
      "cell_type": "code",
      "metadata": {
        "id": "XaYH5_pSFksE",
        "outputId": "d5591c30-33ac-49b2-900f-b46643bdb54d"
      },
      "source": [
        "path = '/home/alexa/Documents/Data_Mining/ERGASIA_3/data/train.csv'\n",
        "\n",
        "train_df = pd.read_csv(path)\n",
        "\n",
        "train_df"
      ],
      "execution_count": null,
      "outputs": [
        {
          "output_type": "execute_result",
          "data": {
            "text/html": [
              "<div>\n",
              "<style scoped>\n",
              "    .dataframe tbody tr th:only-of-type {\n",
              "        vertical-align: middle;\n",
              "    }\n",
              "\n",
              "    .dataframe tbody tr th {\n",
              "        vertical-align: top;\n",
              "    }\n",
              "\n",
              "    .dataframe thead th {\n",
              "        text-align: right;\n",
              "    }\n",
              "</style>\n",
              "<table border=\"1\" class=\"dataframe\">\n",
              "  <thead>\n",
              "    <tr style=\"text-align: right;\">\n",
              "      <th></th>\n",
              "      <th>Insult</th>\n",
              "      <th>Date</th>\n",
              "      <th>Comment</th>\n",
              "    </tr>\n",
              "  </thead>\n",
              "  <tbody>\n",
              "    <tr>\n",
              "      <th>0</th>\n",
              "      <td>1</td>\n",
              "      <td>20120618192155Z</td>\n",
              "      <td>\"You fuck your dad.\"</td>\n",
              "    </tr>\n",
              "    <tr>\n",
              "      <th>1</th>\n",
              "      <td>0</td>\n",
              "      <td>20120528192215Z</td>\n",
              "      <td>\"i really don't understand your point.\\xa0 It ...</td>\n",
              "    </tr>\n",
              "    <tr>\n",
              "      <th>2</th>\n",
              "      <td>0</td>\n",
              "      <td>NaN</td>\n",
              "      <td>\"A\\\\xc2\\\\xa0majority of Canadians can and has ...</td>\n",
              "    </tr>\n",
              "    <tr>\n",
              "      <th>3</th>\n",
              "      <td>0</td>\n",
              "      <td>NaN</td>\n",
              "      <td>\"listen if you dont wanna get married to a man...</td>\n",
              "    </tr>\n",
              "    <tr>\n",
              "      <th>4</th>\n",
              "      <td>0</td>\n",
              "      <td>20120619094753Z</td>\n",
              "      <td>\"C\\xe1c b\\u1ea1n xu\\u1ed1ng \\u0111\\u01b0\\u1edd...</td>\n",
              "    </tr>\n",
              "    <tr>\n",
              "      <th>...</th>\n",
              "      <td>...</td>\n",
              "      <td>...</td>\n",
              "      <td>...</td>\n",
              "    </tr>\n",
              "    <tr>\n",
              "      <th>3942</th>\n",
              "      <td>1</td>\n",
              "      <td>20120502172717Z</td>\n",
              "      <td>\"you are both morons and that is never happening\"</td>\n",
              "    </tr>\n",
              "    <tr>\n",
              "      <th>3943</th>\n",
              "      <td>0</td>\n",
              "      <td>20120528164814Z</td>\n",
              "      <td>\"Many toolbars include spell check, like Yahoo...</td>\n",
              "    </tr>\n",
              "    <tr>\n",
              "      <th>3944</th>\n",
              "      <td>0</td>\n",
              "      <td>20120620142813Z</td>\n",
              "      <td>\"@LambeauOrWrigley\\xa0\\xa0@K.Moss\\xa0\\nSioux F...</td>\n",
              "    </tr>\n",
              "    <tr>\n",
              "      <th>3945</th>\n",
              "      <td>0</td>\n",
              "      <td>20120528205648Z</td>\n",
              "      <td>\"How about Felix? He is sure turning into one ...</td>\n",
              "    </tr>\n",
              "    <tr>\n",
              "      <th>3946</th>\n",
              "      <td>0</td>\n",
              "      <td>20120515200734Z</td>\n",
              "      <td>\"You're all upset, defending this hipster band...</td>\n",
              "    </tr>\n",
              "  </tbody>\n",
              "</table>\n",
              "<p>3947 rows × 3 columns</p>\n",
              "</div>"
            ],
            "text/plain": [
              "      Insult             Date  \\\n",
              "0          1  20120618192155Z   \n",
              "1          0  20120528192215Z   \n",
              "2          0              NaN   \n",
              "3          0              NaN   \n",
              "4          0  20120619094753Z   \n",
              "...      ...              ...   \n",
              "3942       1  20120502172717Z   \n",
              "3943       0  20120528164814Z   \n",
              "3944       0  20120620142813Z   \n",
              "3945       0  20120528205648Z   \n",
              "3946       0  20120515200734Z   \n",
              "\n",
              "                                                Comment  \n",
              "0                                  \"You fuck your dad.\"  \n",
              "1     \"i really don't understand your point.\\xa0 It ...  \n",
              "2     \"A\\\\xc2\\\\xa0majority of Canadians can and has ...  \n",
              "3     \"listen if you dont wanna get married to a man...  \n",
              "4     \"C\\xe1c b\\u1ea1n xu\\u1ed1ng \\u0111\\u01b0\\u1edd...  \n",
              "...                                                 ...  \n",
              "3942  \"you are both morons and that is never happening\"  \n",
              "3943  \"Many toolbars include spell check, like Yahoo...  \n",
              "3944  \"@LambeauOrWrigley\\xa0\\xa0@K.Moss\\xa0\\nSioux F...  \n",
              "3945  \"How about Felix? He is sure turning into one ...  \n",
              "3946  \"You're all upset, defending this hipster band...  \n",
              "\n",
              "[3947 rows x 3 columns]"
            ]
          },
          "metadata": {
            "tags": []
          },
          "execution_count": 55
        }
      ]
    },
    {
      "cell_type": "code",
      "metadata": {
        "id": "JXUYHVG1FksO",
        "outputId": "28786000-0a8b-495e-e297-f613f9e7e7be"
      },
      "source": [
        "path = '/home/alexa/Documents/Data_Mining/ERGASIA_3/data/impermium_verification_labels.csv'\n",
        "\n",
        "test_df = pd.read_csv(path)\n",
        "\n",
        "test_df"
      ],
      "execution_count": null,
      "outputs": [
        {
          "output_type": "execute_result",
          "data": {
            "text/html": [
              "<div>\n",
              "<style scoped>\n",
              "    .dataframe tbody tr th:only-of-type {\n",
              "        vertical-align: middle;\n",
              "    }\n",
              "\n",
              "    .dataframe tbody tr th {\n",
              "        vertical-align: top;\n",
              "    }\n",
              "\n",
              "    .dataframe thead th {\n",
              "        text-align: right;\n",
              "    }\n",
              "</style>\n",
              "<table border=\"1\" class=\"dataframe\">\n",
              "  <thead>\n",
              "    <tr style=\"text-align: right;\">\n",
              "      <th></th>\n",
              "      <th>id</th>\n",
              "      <th>Insult</th>\n",
              "      <th>Date</th>\n",
              "      <th>Comment</th>\n",
              "      <th>Usage</th>\n",
              "    </tr>\n",
              "  </thead>\n",
              "  <tbody>\n",
              "    <tr>\n",
              "      <th>0</th>\n",
              "      <td>1</td>\n",
              "      <td>0</td>\n",
              "      <td>20120603163526Z</td>\n",
              "      <td>\"like this if you are a tribe fan\"</td>\n",
              "      <td>PrivateTest</td>\n",
              "    </tr>\n",
              "    <tr>\n",
              "      <th>1</th>\n",
              "      <td>2</td>\n",
              "      <td>1</td>\n",
              "      <td>20120531215447Z</td>\n",
              "      <td>\"you're idiot.......................\"</td>\n",
              "      <td>PrivateTest</td>\n",
              "    </tr>\n",
              "    <tr>\n",
              "      <th>2</th>\n",
              "      <td>3</td>\n",
              "      <td>1</td>\n",
              "      <td>20120823164228Z</td>\n",
              "      <td>\"I am a woman Babs, and the only \"war on women...</td>\n",
              "      <td>PrivateTest</td>\n",
              "    </tr>\n",
              "    <tr>\n",
              "      <th>3</th>\n",
              "      <td>4</td>\n",
              "      <td>1</td>\n",
              "      <td>20120826010752Z</td>\n",
              "      <td>\"WOW &amp; YOU BENEFITTED SO MANY WINS THIS YEAR F...</td>\n",
              "      <td>PrivateTest</td>\n",
              "    </tr>\n",
              "    <tr>\n",
              "      <th>4</th>\n",
              "      <td>5</td>\n",
              "      <td>1</td>\n",
              "      <td>20120602223825Z</td>\n",
              "      <td>\"haha green me red you now loser whos winning ...</td>\n",
              "      <td>PrivateTest</td>\n",
              "    </tr>\n",
              "    <tr>\n",
              "      <th>...</th>\n",
              "      <td>...</td>\n",
              "      <td>...</td>\n",
              "      <td>...</td>\n",
              "      <td>...</td>\n",
              "      <td>...</td>\n",
              "    </tr>\n",
              "    <tr>\n",
              "      <th>2230</th>\n",
              "      <td>2231</td>\n",
              "      <td>0</td>\n",
              "      <td>20120528100303Z</td>\n",
              "      <td>\"FUCKIN LAME COME ON WTF STOP FUCKING OVER MY ...</td>\n",
              "      <td>PrivateTest</td>\n",
              "    </tr>\n",
              "    <tr>\n",
              "      <th>2231</th>\n",
              "      <td>2232</td>\n",
              "      <td>1</td>\n",
              "      <td>20120531185813Z</td>\n",
              "      <td>\"YOU SHUT YOUR IGNORANT PIE HOLE YOU LITTLE IN...</td>\n",
              "      <td>PrivateTest</td>\n",
              "    </tr>\n",
              "    <tr>\n",
              "      <th>2232</th>\n",
              "      <td>2233</td>\n",
              "      <td>0</td>\n",
              "      <td>20120529130822Z</td>\n",
              "      <td>\"sweetie pie is looking very much like her cou...</td>\n",
              "      <td>PrivateTest</td>\n",
              "    </tr>\n",
              "    <tr>\n",
              "      <th>2233</th>\n",
              "      <td>2234</td>\n",
              "      <td>1</td>\n",
              "      <td>20120531045826Z</td>\n",
              "      <td>\"ball4real where are you with your miami g-ayn...</td>\n",
              "      <td>PrivateTest</td>\n",
              "    </tr>\n",
              "    <tr>\n",
              "      <th>2234</th>\n",
              "      <td>2235</td>\n",
              "      <td>0</td>\n",
              "      <td>20120531184524Z</td>\n",
              "      <td>\"Man....if you are a 3 point shooter, you must...</td>\n",
              "      <td>PrivateTest</td>\n",
              "    </tr>\n",
              "  </tbody>\n",
              "</table>\n",
              "<p>2235 rows × 5 columns</p>\n",
              "</div>"
            ],
            "text/plain": [
              "        id  Insult             Date  \\\n",
              "0        1       0  20120603163526Z   \n",
              "1        2       1  20120531215447Z   \n",
              "2        3       1  20120823164228Z   \n",
              "3        4       1  20120826010752Z   \n",
              "4        5       1  20120602223825Z   \n",
              "...    ...     ...              ...   \n",
              "2230  2231       0  20120528100303Z   \n",
              "2231  2232       1  20120531185813Z   \n",
              "2232  2233       0  20120529130822Z   \n",
              "2233  2234       1  20120531045826Z   \n",
              "2234  2235       0  20120531184524Z   \n",
              "\n",
              "                                                Comment        Usage  \n",
              "0                    \"like this if you are a tribe fan\"  PrivateTest  \n",
              "1                 \"you're idiot.......................\"  PrivateTest  \n",
              "2     \"I am a woman Babs, and the only \"war on women...  PrivateTest  \n",
              "3     \"WOW & YOU BENEFITTED SO MANY WINS THIS YEAR F...  PrivateTest  \n",
              "4     \"haha green me red you now loser whos winning ...  PrivateTest  \n",
              "...                                                 ...          ...  \n",
              "2230  \"FUCKIN LAME COME ON WTF STOP FUCKING OVER MY ...  PrivateTest  \n",
              "2231  \"YOU SHUT YOUR IGNORANT PIE HOLE YOU LITTLE IN...  PrivateTest  \n",
              "2232  \"sweetie pie is looking very much like her cou...  PrivateTest  \n",
              "2233  \"ball4real where are you with your miami g-ayn...  PrivateTest  \n",
              "2234  \"Man....if you are a 3 point shooter, you must...  PrivateTest  \n",
              "\n",
              "[2235 rows x 5 columns]"
            ]
          },
          "metadata": {
            "tags": []
          },
          "execution_count": 56
        }
      ]
    },
    {
      "cell_type": "markdown",
      "metadata": {
        "id": "84971A5DFksW"
      },
      "source": [
        "Creating Labels (in our case they are already ready, so all I need to do is get the right column)"
      ]
    },
    {
      "cell_type": "code",
      "metadata": {
        "id": "SE1xKqCpFksY"
      },
      "source": [
        "label_train = train_df['Insult'].tolist()\n",
        "label_test = test_df['Insult'].tolist()"
      ],
      "execution_count": null,
      "outputs": []
    },
    {
      "cell_type": "markdown",
      "metadata": {
        "id": "YKrwG_IgFksf"
      },
      "source": [
        "##    <span style='color:Blue'>*Step 1:* </span> Data Cleaning"
      ]
    },
    {
      "cell_type": "markdown",
      "metadata": {
        "id": "yPBKvnzBFksg"
      },
      "source": [
        "Convert uppercase letters to lowercase and remove punctuations."
      ]
    },
    {
      "cell_type": "code",
      "metadata": {
        "scrolled": true,
        "id": "0kyn-b65Fksh",
        "outputId": "c0b25622-6546-4986-95cf-6aa732a83922"
      },
      "source": [
        "#Lowercase of the train set and get rid of the punctiations and the symbols.\n",
        "for i, row in train_df.iterrows():\n",
        "    train_df.loc[i,'Comment']  =  train_df.loc[i,'Comment'].lower()\n",
        "    train_df.loc[i,'Comment'] = ''.join(ch for ch in train_df['Comment'][i] if ch not in set(string.punctuation))\n",
        "train_df"
      ],
      "execution_count": null,
      "outputs": [
        {
          "output_type": "execute_result",
          "data": {
            "text/html": [
              "<div>\n",
              "<style scoped>\n",
              "    .dataframe tbody tr th:only-of-type {\n",
              "        vertical-align: middle;\n",
              "    }\n",
              "\n",
              "    .dataframe tbody tr th {\n",
              "        vertical-align: top;\n",
              "    }\n",
              "\n",
              "    .dataframe thead th {\n",
              "        text-align: right;\n",
              "    }\n",
              "</style>\n",
              "<table border=\"1\" class=\"dataframe\">\n",
              "  <thead>\n",
              "    <tr style=\"text-align: right;\">\n",
              "      <th></th>\n",
              "      <th>Insult</th>\n",
              "      <th>Date</th>\n",
              "      <th>Comment</th>\n",
              "    </tr>\n",
              "  </thead>\n",
              "  <tbody>\n",
              "    <tr>\n",
              "      <th>0</th>\n",
              "      <td>1</td>\n",
              "      <td>20120618192155Z</td>\n",
              "      <td>you fuck your dad</td>\n",
              "    </tr>\n",
              "    <tr>\n",
              "      <th>1</th>\n",
              "      <td>0</td>\n",
              "      <td>20120528192215Z</td>\n",
              "      <td>i really dont understand your pointxa0 it seem...</td>\n",
              "    </tr>\n",
              "    <tr>\n",
              "      <th>2</th>\n",
              "      <td>0</td>\n",
              "      <td>NaN</td>\n",
              "      <td>axc2xa0majority of canadians can and has been ...</td>\n",
              "    </tr>\n",
              "    <tr>\n",
              "      <th>3</th>\n",
              "      <td>0</td>\n",
              "      <td>NaN</td>\n",
              "      <td>listen if you dont wanna get married to a man ...</td>\n",
              "    </tr>\n",
              "    <tr>\n",
              "      <th>4</th>\n",
              "      <td>0</td>\n",
              "      <td>20120619094753Z</td>\n",
              "      <td>cxe1c bu1ea1n xuu1ed1ng u0111u01b0u1eddng biu1...</td>\n",
              "    </tr>\n",
              "    <tr>\n",
              "      <th>...</th>\n",
              "      <td>...</td>\n",
              "      <td>...</td>\n",
              "      <td>...</td>\n",
              "    </tr>\n",
              "    <tr>\n",
              "      <th>3942</th>\n",
              "      <td>1</td>\n",
              "      <td>20120502172717Z</td>\n",
              "      <td>you are both morons and that is never happening</td>\n",
              "    </tr>\n",
              "    <tr>\n",
              "      <th>3943</th>\n",
              "      <td>0</td>\n",
              "      <td>20120528164814Z</td>\n",
              "      <td>many toolbars include spell check like yahoo f...</td>\n",
              "    </tr>\n",
              "    <tr>\n",
              "      <th>3944</th>\n",
              "      <td>0</td>\n",
              "      <td>20120620142813Z</td>\n",
              "      <td>lambeauorwrigleyxa0xa0kmossxa0nsioux falls sd ...</td>\n",
              "    </tr>\n",
              "    <tr>\n",
              "      <th>3945</th>\n",
              "      <td>0</td>\n",
              "      <td>20120528205648Z</td>\n",
              "      <td>how about felix he is sure turning into one he...</td>\n",
              "    </tr>\n",
              "    <tr>\n",
              "      <th>3946</th>\n",
              "      <td>0</td>\n",
              "      <td>20120515200734Z</td>\n",
              "      <td>youre all upset defending this hipster bandand...</td>\n",
              "    </tr>\n",
              "  </tbody>\n",
              "</table>\n",
              "<p>3947 rows × 3 columns</p>\n",
              "</div>"
            ],
            "text/plain": [
              "      Insult             Date  \\\n",
              "0          1  20120618192155Z   \n",
              "1          0  20120528192215Z   \n",
              "2          0              NaN   \n",
              "3          0              NaN   \n",
              "4          0  20120619094753Z   \n",
              "...      ...              ...   \n",
              "3942       1  20120502172717Z   \n",
              "3943       0  20120528164814Z   \n",
              "3944       0  20120620142813Z   \n",
              "3945       0  20120528205648Z   \n",
              "3946       0  20120515200734Z   \n",
              "\n",
              "                                                Comment  \n",
              "0                                     you fuck your dad  \n",
              "1     i really dont understand your pointxa0 it seem...  \n",
              "2     axc2xa0majority of canadians can and has been ...  \n",
              "3     listen if you dont wanna get married to a man ...  \n",
              "4     cxe1c bu1ea1n xuu1ed1ng u0111u01b0u1eddng biu1...  \n",
              "...                                                 ...  \n",
              "3942    you are both morons and that is never happening  \n",
              "3943  many toolbars include spell check like yahoo f...  \n",
              "3944  lambeauorwrigleyxa0xa0kmossxa0nsioux falls sd ...  \n",
              "3945  how about felix he is sure turning into one he...  \n",
              "3946  youre all upset defending this hipster bandand...  \n",
              "\n",
              "[3947 rows x 3 columns]"
            ]
          },
          "metadata": {
            "tags": []
          },
          "execution_count": 58
        }
      ]
    },
    {
      "cell_type": "code",
      "metadata": {
        "id": "if9xeVILFksp",
        "outputId": "1f729efd-07ed-4936-b2df-b2d38c76dccf"
      },
      "source": [
        "#Lowercase of the test set and get rid of the punctiations and the symbols.\n",
        "for i, row in test_df.iterrows():\n",
        "    test_df.loc[i,'Comment']  =  test_df.loc[i,'Comment'].lower()\n",
        "    test_df.loc[i,'Comment'] = ''.join(ch for ch in test_df['Comment'][i] if ch not in set(string.punctuation))\n",
        "test_df"
      ],
      "execution_count": null,
      "outputs": [
        {
          "output_type": "execute_result",
          "data": {
            "text/html": [
              "<div>\n",
              "<style scoped>\n",
              "    .dataframe tbody tr th:only-of-type {\n",
              "        vertical-align: middle;\n",
              "    }\n",
              "\n",
              "    .dataframe tbody tr th {\n",
              "        vertical-align: top;\n",
              "    }\n",
              "\n",
              "    .dataframe thead th {\n",
              "        text-align: right;\n",
              "    }\n",
              "</style>\n",
              "<table border=\"1\" class=\"dataframe\">\n",
              "  <thead>\n",
              "    <tr style=\"text-align: right;\">\n",
              "      <th></th>\n",
              "      <th>id</th>\n",
              "      <th>Insult</th>\n",
              "      <th>Date</th>\n",
              "      <th>Comment</th>\n",
              "      <th>Usage</th>\n",
              "    </tr>\n",
              "  </thead>\n",
              "  <tbody>\n",
              "    <tr>\n",
              "      <th>0</th>\n",
              "      <td>1</td>\n",
              "      <td>0</td>\n",
              "      <td>20120603163526Z</td>\n",
              "      <td>like this if you are a tribe fan</td>\n",
              "      <td>PrivateTest</td>\n",
              "    </tr>\n",
              "    <tr>\n",
              "      <th>1</th>\n",
              "      <td>2</td>\n",
              "      <td>1</td>\n",
              "      <td>20120531215447Z</td>\n",
              "      <td>youre idiot</td>\n",
              "      <td>PrivateTest</td>\n",
              "    </tr>\n",
              "    <tr>\n",
              "      <th>2</th>\n",
              "      <td>3</td>\n",
              "      <td>1</td>\n",
              "      <td>20120823164228Z</td>\n",
              "      <td>i am a woman babs and the only war on women i ...</td>\n",
              "      <td>PrivateTest</td>\n",
              "    </tr>\n",
              "    <tr>\n",
              "      <th>3</th>\n",
              "      <td>4</td>\n",
              "      <td>1</td>\n",
              "      <td>20120826010752Z</td>\n",
              "      <td>wow  you benefitted so many wins this year fro...</td>\n",
              "      <td>PrivateTest</td>\n",
              "    </tr>\n",
              "    <tr>\n",
              "      <th>4</th>\n",
              "      <td>5</td>\n",
              "      <td>1</td>\n",
              "      <td>20120602223825Z</td>\n",
              "      <td>haha green me red you now loser whos winning n...</td>\n",
              "      <td>PrivateTest</td>\n",
              "    </tr>\n",
              "    <tr>\n",
              "      <th>...</th>\n",
              "      <td>...</td>\n",
              "      <td>...</td>\n",
              "      <td>...</td>\n",
              "      <td>...</td>\n",
              "      <td>...</td>\n",
              "    </tr>\n",
              "    <tr>\n",
              "      <th>2230</th>\n",
              "      <td>2231</td>\n",
              "      <td>0</td>\n",
              "      <td>20120528100303Z</td>\n",
              "      <td>fuckin lame come on wtf stop fucking over my b...</td>\n",
              "      <td>PrivateTest</td>\n",
              "    </tr>\n",
              "    <tr>\n",
              "      <th>2231</th>\n",
              "      <td>2232</td>\n",
              "      <td>1</td>\n",
              "      <td>20120531185813Z</td>\n",
              "      <td>you shut your ignorant pie hole you little ins...</td>\n",
              "      <td>PrivateTest</td>\n",
              "    </tr>\n",
              "    <tr>\n",
              "      <th>2232</th>\n",
              "      <td>2233</td>\n",
              "      <td>0</td>\n",
              "      <td>20120529130822Z</td>\n",
              "      <td>sweetie pie is looking very much like her cous...</td>\n",
              "      <td>PrivateTest</td>\n",
              "    </tr>\n",
              "    <tr>\n",
              "      <th>2233</th>\n",
              "      <td>2234</td>\n",
              "      <td>1</td>\n",
              "      <td>20120531045826Z</td>\n",
              "      <td>ball4real where are you with your miami gayness</td>\n",
              "      <td>PrivateTest</td>\n",
              "    </tr>\n",
              "    <tr>\n",
              "      <th>2234</th>\n",
              "      <td>2235</td>\n",
              "      <td>0</td>\n",
              "      <td>20120531184524Z</td>\n",
              "      <td>manif you are a 3 point shooter you must love ...</td>\n",
              "      <td>PrivateTest</td>\n",
              "    </tr>\n",
              "  </tbody>\n",
              "</table>\n",
              "<p>2235 rows × 5 columns</p>\n",
              "</div>"
            ],
            "text/plain": [
              "        id  Insult             Date  \\\n",
              "0        1       0  20120603163526Z   \n",
              "1        2       1  20120531215447Z   \n",
              "2        3       1  20120823164228Z   \n",
              "3        4       1  20120826010752Z   \n",
              "4        5       1  20120602223825Z   \n",
              "...    ...     ...              ...   \n",
              "2230  2231       0  20120528100303Z   \n",
              "2231  2232       1  20120531185813Z   \n",
              "2232  2233       0  20120529130822Z   \n",
              "2233  2234       1  20120531045826Z   \n",
              "2234  2235       0  20120531184524Z   \n",
              "\n",
              "                                                Comment        Usage  \n",
              "0                      like this if you are a tribe fan  PrivateTest  \n",
              "1                                           youre idiot  PrivateTest  \n",
              "2     i am a woman babs and the only war on women i ...  PrivateTest  \n",
              "3     wow  you benefitted so many wins this year fro...  PrivateTest  \n",
              "4     haha green me red you now loser whos winning n...  PrivateTest  \n",
              "...                                                 ...          ...  \n",
              "2230  fuckin lame come on wtf stop fucking over my b...  PrivateTest  \n",
              "2231  you shut your ignorant pie hole you little ins...  PrivateTest  \n",
              "2232  sweetie pie is looking very much like her cous...  PrivateTest  \n",
              "2233    ball4real where are you with your miami gayness  PrivateTest  \n",
              "2234  manif you are a 3 point shooter you must love ...  PrivateTest  \n",
              "\n",
              "[2235 rows x 5 columns]"
            ]
          },
          "metadata": {
            "tags": []
          },
          "execution_count": 59
        }
      ]
    },
    {
      "cell_type": "markdown",
      "metadata": {
        "id": "Hw512mMcFksw"
      },
      "source": [
        "Remove links and html tags from comments"
      ]
    },
    {
      "cell_type": "code",
      "metadata": {
        "scrolled": false,
        "id": "OB2oSoqNFksw",
        "outputId": "b937af67-4fbe-4408-943b-d3310ed24b9f"
      },
      "source": [
        "import re\n",
        "#Remove tags an links in train data\n",
        "tag = re.compile(r'<[^>]+>')\n",
        "\n",
        "train_df['Comment'] = train_df['Comment'].apply(lambda x: tag.sub('', x)) #removing html labels\n",
        "\n",
        "train_df['Comment'] = train_df['Comment'].replace(r'http\\S+', '', regex=True).replace(r'www.\\S+', '', regex=True).replace(r'http\\S+', '', regex=True).replace(r'\"', '', regex=True)\n",
        "\n",
        "#Remove usless characters like “\\n” and “\\u0111” in train data\n",
        "train_df['Comment'] = train_df['Comment'].replace(r'\\\\\\S+', '', regex=True)\n",
        "\n",
        "train_df.to_pickle(\"train_df.pkl\")\n",
        "\n",
        "train_df"
      ],
      "execution_count": null,
      "outputs": [
        {
          "output_type": "execute_result",
          "data": {
            "text/html": [
              "<div>\n",
              "<style scoped>\n",
              "    .dataframe tbody tr th:only-of-type {\n",
              "        vertical-align: middle;\n",
              "    }\n",
              "\n",
              "    .dataframe tbody tr th {\n",
              "        vertical-align: top;\n",
              "    }\n",
              "\n",
              "    .dataframe thead th {\n",
              "        text-align: right;\n",
              "    }\n",
              "</style>\n",
              "<table border=\"1\" class=\"dataframe\">\n",
              "  <thead>\n",
              "    <tr style=\"text-align: right;\">\n",
              "      <th></th>\n",
              "      <th>Insult</th>\n",
              "      <th>Date</th>\n",
              "      <th>Comment</th>\n",
              "    </tr>\n",
              "  </thead>\n",
              "  <tbody>\n",
              "    <tr>\n",
              "      <th>0</th>\n",
              "      <td>1</td>\n",
              "      <td>20120618192155Z</td>\n",
              "      <td>you fuck your dad</td>\n",
              "    </tr>\n",
              "    <tr>\n",
              "      <th>1</th>\n",
              "      <td>0</td>\n",
              "      <td>20120528192215Z</td>\n",
              "      <td>i really dont understand your pointxa0 it seem...</td>\n",
              "    </tr>\n",
              "    <tr>\n",
              "      <th>2</th>\n",
              "      <td>0</td>\n",
              "      <td>NaN</td>\n",
              "      <td>axc2xa0majority of canadians can and has been ...</td>\n",
              "    </tr>\n",
              "    <tr>\n",
              "      <th>3</th>\n",
              "      <td>0</td>\n",
              "      <td>NaN</td>\n",
              "      <td>listen if you dont wanna get married to a man ...</td>\n",
              "    </tr>\n",
              "    <tr>\n",
              "      <th>4</th>\n",
              "      <td>0</td>\n",
              "      <td>20120619094753Z</td>\n",
              "      <td>cxe1c bu1ea1n xuu1ed1ng u0111u01b0u1eddng biu1...</td>\n",
              "    </tr>\n",
              "    <tr>\n",
              "      <th>...</th>\n",
              "      <td>...</td>\n",
              "      <td>...</td>\n",
              "      <td>...</td>\n",
              "    </tr>\n",
              "    <tr>\n",
              "      <th>3942</th>\n",
              "      <td>1</td>\n",
              "      <td>20120502172717Z</td>\n",
              "      <td>you are both morons and that is never happening</td>\n",
              "    </tr>\n",
              "    <tr>\n",
              "      <th>3943</th>\n",
              "      <td>0</td>\n",
              "      <td>20120528164814Z</td>\n",
              "      <td>many toolbars include spell check like yahoo f...</td>\n",
              "    </tr>\n",
              "    <tr>\n",
              "      <th>3944</th>\n",
              "      <td>0</td>\n",
              "      <td>20120620142813Z</td>\n",
              "      <td>lambeauorwrigleyxa0xa0kmossxa0nsioux falls sd ...</td>\n",
              "    </tr>\n",
              "    <tr>\n",
              "      <th>3945</th>\n",
              "      <td>0</td>\n",
              "      <td>20120528205648Z</td>\n",
              "      <td>how about felix he is sure turning into one he...</td>\n",
              "    </tr>\n",
              "    <tr>\n",
              "      <th>3946</th>\n",
              "      <td>0</td>\n",
              "      <td>20120515200734Z</td>\n",
              "      <td>youre all upset defending this hipster bandand...</td>\n",
              "    </tr>\n",
              "  </tbody>\n",
              "</table>\n",
              "<p>3947 rows × 3 columns</p>\n",
              "</div>"
            ],
            "text/plain": [
              "      Insult             Date  \\\n",
              "0          1  20120618192155Z   \n",
              "1          0  20120528192215Z   \n",
              "2          0              NaN   \n",
              "3          0              NaN   \n",
              "4          0  20120619094753Z   \n",
              "...      ...              ...   \n",
              "3942       1  20120502172717Z   \n",
              "3943       0  20120528164814Z   \n",
              "3944       0  20120620142813Z   \n",
              "3945       0  20120528205648Z   \n",
              "3946       0  20120515200734Z   \n",
              "\n",
              "                                                Comment  \n",
              "0                                     you fuck your dad  \n",
              "1     i really dont understand your pointxa0 it seem...  \n",
              "2     axc2xa0majority of canadians can and has been ...  \n",
              "3     listen if you dont wanna get married to a man ...  \n",
              "4     cxe1c bu1ea1n xuu1ed1ng u0111u01b0u1eddng biu1...  \n",
              "...                                                 ...  \n",
              "3942    you are both morons and that is never happening  \n",
              "3943  many toolbars include spell check like yahoo f...  \n",
              "3944  lambeauorwrigleyxa0xa0kmossxa0nsioux falls sd ...  \n",
              "3945  how about felix he is sure turning into one he...  \n",
              "3946  youre all upset defending this hipster bandand...  \n",
              "\n",
              "[3947 rows x 3 columns]"
            ]
          },
          "metadata": {
            "tags": []
          },
          "execution_count": 60
        }
      ]
    },
    {
      "cell_type": "code",
      "metadata": {
        "id": "CH88YsvoFks1",
        "outputId": "56598481-8cb2-4a9c-82d7-b61137dd0de4"
      },
      "source": [
        "#Remove tags an links in test data\n",
        "tag = re.compile(r'<[^>]+>')\n",
        "\n",
        "test_df['Comment'] = test_df['Comment'].apply(lambda x: tag.sub('', x)) #removing html labels\n",
        "\n",
        "test_df['Comment'] = test_df['Comment'].replace(r'http\\S+', '', regex=True).replace(r'www.\\S+', '', regex=True).replace(r'http\\S+', '', regex=True).replace(r'\"', '', regex=True)\n",
        "\n",
        "#Remove usless characters like “\\n” and “\\u0111” in test data\n",
        "test_df['Comment'] = test_df['Comment'].replace(r'\\\\\\S+', '', regex=True)\n",
        "\n",
        "test_df.to_pickle(\"test_df.pkl\")\n",
        "\n",
        "test_df"
      ],
      "execution_count": null,
      "outputs": [
        {
          "output_type": "execute_result",
          "data": {
            "text/html": [
              "<div>\n",
              "<style scoped>\n",
              "    .dataframe tbody tr th:only-of-type {\n",
              "        vertical-align: middle;\n",
              "    }\n",
              "\n",
              "    .dataframe tbody tr th {\n",
              "        vertical-align: top;\n",
              "    }\n",
              "\n",
              "    .dataframe thead th {\n",
              "        text-align: right;\n",
              "    }\n",
              "</style>\n",
              "<table border=\"1\" class=\"dataframe\">\n",
              "  <thead>\n",
              "    <tr style=\"text-align: right;\">\n",
              "      <th></th>\n",
              "      <th>id</th>\n",
              "      <th>Insult</th>\n",
              "      <th>Date</th>\n",
              "      <th>Comment</th>\n",
              "      <th>Usage</th>\n",
              "    </tr>\n",
              "  </thead>\n",
              "  <tbody>\n",
              "    <tr>\n",
              "      <th>0</th>\n",
              "      <td>1</td>\n",
              "      <td>0</td>\n",
              "      <td>20120603163526Z</td>\n",
              "      <td>like this if you are a tribe fan</td>\n",
              "      <td>PrivateTest</td>\n",
              "    </tr>\n",
              "    <tr>\n",
              "      <th>1</th>\n",
              "      <td>2</td>\n",
              "      <td>1</td>\n",
              "      <td>20120531215447Z</td>\n",
              "      <td>youre idiot</td>\n",
              "      <td>PrivateTest</td>\n",
              "    </tr>\n",
              "    <tr>\n",
              "      <th>2</th>\n",
              "      <td>3</td>\n",
              "      <td>1</td>\n",
              "      <td>20120823164228Z</td>\n",
              "      <td>i am a woman babs and the only war on women i ...</td>\n",
              "      <td>PrivateTest</td>\n",
              "    </tr>\n",
              "    <tr>\n",
              "      <th>3</th>\n",
              "      <td>4</td>\n",
              "      <td>1</td>\n",
              "      <td>20120826010752Z</td>\n",
              "      <td>wow  you benefitted so many wins this year fro...</td>\n",
              "      <td>PrivateTest</td>\n",
              "    </tr>\n",
              "    <tr>\n",
              "      <th>4</th>\n",
              "      <td>5</td>\n",
              "      <td>1</td>\n",
              "      <td>20120602223825Z</td>\n",
              "      <td>haha green me red you now loser whos winning n...</td>\n",
              "      <td>PrivateTest</td>\n",
              "    </tr>\n",
              "    <tr>\n",
              "      <th>...</th>\n",
              "      <td>...</td>\n",
              "      <td>...</td>\n",
              "      <td>...</td>\n",
              "      <td>...</td>\n",
              "      <td>...</td>\n",
              "    </tr>\n",
              "    <tr>\n",
              "      <th>2230</th>\n",
              "      <td>2231</td>\n",
              "      <td>0</td>\n",
              "      <td>20120528100303Z</td>\n",
              "      <td>fuckin lame come on wtf stop fucking over my b...</td>\n",
              "      <td>PrivateTest</td>\n",
              "    </tr>\n",
              "    <tr>\n",
              "      <th>2231</th>\n",
              "      <td>2232</td>\n",
              "      <td>1</td>\n",
              "      <td>20120531185813Z</td>\n",
              "      <td>you shut your ignorant pie hole you little ins...</td>\n",
              "      <td>PrivateTest</td>\n",
              "    </tr>\n",
              "    <tr>\n",
              "      <th>2232</th>\n",
              "      <td>2233</td>\n",
              "      <td>0</td>\n",
              "      <td>20120529130822Z</td>\n",
              "      <td>sweetie pie is looking very much like her cous...</td>\n",
              "      <td>PrivateTest</td>\n",
              "    </tr>\n",
              "    <tr>\n",
              "      <th>2233</th>\n",
              "      <td>2234</td>\n",
              "      <td>1</td>\n",
              "      <td>20120531045826Z</td>\n",
              "      <td>ball4real where are you with your miami gayness</td>\n",
              "      <td>PrivateTest</td>\n",
              "    </tr>\n",
              "    <tr>\n",
              "      <th>2234</th>\n",
              "      <td>2235</td>\n",
              "      <td>0</td>\n",
              "      <td>20120531184524Z</td>\n",
              "      <td>manif you are a 3 point shooter you must love ...</td>\n",
              "      <td>PrivateTest</td>\n",
              "    </tr>\n",
              "  </tbody>\n",
              "</table>\n",
              "<p>2235 rows × 5 columns</p>\n",
              "</div>"
            ],
            "text/plain": [
              "        id  Insult             Date  \\\n",
              "0        1       0  20120603163526Z   \n",
              "1        2       1  20120531215447Z   \n",
              "2        3       1  20120823164228Z   \n",
              "3        4       1  20120826010752Z   \n",
              "4        5       1  20120602223825Z   \n",
              "...    ...     ...              ...   \n",
              "2230  2231       0  20120528100303Z   \n",
              "2231  2232       1  20120531185813Z   \n",
              "2232  2233       0  20120529130822Z   \n",
              "2233  2234       1  20120531045826Z   \n",
              "2234  2235       0  20120531184524Z   \n",
              "\n",
              "                                                Comment        Usage  \n",
              "0                      like this if you are a tribe fan  PrivateTest  \n",
              "1                                           youre idiot  PrivateTest  \n",
              "2     i am a woman babs and the only war on women i ...  PrivateTest  \n",
              "3     wow  you benefitted so many wins this year fro...  PrivateTest  \n",
              "4     haha green me red you now loser whos winning n...  PrivateTest  \n",
              "...                                                 ...          ...  \n",
              "2230  fuckin lame come on wtf stop fucking over my b...  PrivateTest  \n",
              "2231  you shut your ignorant pie hole you little ins...  PrivateTest  \n",
              "2232  sweetie pie is looking very much like her cous...  PrivateTest  \n",
              "2233    ball4real where are you with your miami gayness  PrivateTest  \n",
              "2234  manif you are a 3 point shooter you must love ...  PrivateTest  \n",
              "\n",
              "[2235 rows x 5 columns]"
            ]
          },
          "metadata": {
            "tags": []
          },
          "execution_count": 61
        }
      ]
    },
    {
      "cell_type": "markdown",
      "metadata": {
        "id": "__cJySHxFks8"
      },
      "source": [
        "##    <span style='color:Blue'>*Step 2:* </span> Vectorization"
      ]
    },
    {
      "cell_type": "markdown",
      "metadata": {
        "id": "o2oXPWdfFks8"
      },
      "source": [
        "### Bag-Οf-Words"
      ]
    },
    {
      "cell_type": "code",
      "metadata": {
        "id": "fnpFttGDFks9",
        "outputId": "bd15e87f-3394-4b78-e030-2f0af19d20a3"
      },
      "source": [
        "from sklearn.feature_extraction.text import CountVectorizer\n",
        "\n",
        "count_vectorizer = CountVectorizer()\n",
        "bowX_train = count_vectorizer.fit_transform(train_df['Comment'].tolist()) #For training set\n",
        "bowX_test = count_vectorizer.transform(test_df['Comment'].tolist())  #For testing set\n",
        "\n",
        "print(bowX_train.shape)\n",
        "print(bowX_test.shape)"
      ],
      "execution_count": null,
      "outputs": [
        {
          "output_type": "stream",
          "text": [
            "(3947, 18777)\n",
            "(2235, 18777)\n"
          ],
          "name": "stdout"
        }
      ]
    },
    {
      "cell_type": "markdown",
      "metadata": {
        "id": "Q2MBSye-FktC"
      },
      "source": [
        "##    <span style='color:Blue'>*Step 3:* </span>  Try the Classification Method of Naive Bayes and evaluate it"
      ]
    },
    {
      "cell_type": "code",
      "metadata": {
        "id": "fWBGCHptFktD",
        "outputId": "e51c578c-847a-49b7-89f5-a2a1130495e1"
      },
      "source": [
        "from sklearn.naive_bayes import GaussianNB\n",
        "from sklearn.model_selection import cross_val_score\n",
        "from sklearn.metrics import roc_curve, auc\n",
        "from sklearn.preprocessing import label_binarize\n",
        "from sklearn.metrics import precision_score,recall_score,f1_score,accuracy_score\n",
        "\n",
        "gnb1 = GaussianNB()\n",
        "gnb1.fit(bowX_train.toarray(), label_train)\n",
        "predictions = gnb1.predict(bowX_test.toarray())\n",
        "\n",
        "#F1 \n",
        "nb_bow_f1_test_score_0 = \"{:.2f}\".format(f1_score(label_test,predictions,average='weighted'))\n",
        "print('F1 score of Bag-of-words with Naive-Bayes Classifier: ' , nb_bow_f1_test_score_0)\n",
        "\n",
        "#Accuracy\n",
        "nb_bow_acc_test_score_0 = \"{:.2f}\".format(accuracy_score(label_test,predictions))\n",
        "print('Accuracy score of Bag-of-words with Naive-Bayes Classifier: ' , nb_bow_acc_test_score_0)\n"
      ],
      "execution_count": null,
      "outputs": [
        {
          "output_type": "stream",
          "text": [
            "F1 score of Bag-of-words with Naive-Bayes Classifier:  0.53\n",
            "Accuracy score of Bag-of-words with Naive-Bayes Classifier:  0.53\n"
          ],
          "name": "stdout"
        }
      ]
    },
    {
      "cell_type": "markdown",
      "metadata": {
        "id": "oRPvBbM2FktJ"
      },
      "source": [
        "#### We observe that without any \"great\" clearing of the data, the Naive Bayes algorithm gave a score of F1 and Accuracy ~ 0.53."
      ]
    },
    {
      "cell_type": "markdown",
      "metadata": {
        "id": "SA_eF3iNFktK"
      },
      "source": [
        "##    <span style='color:Blue'>*Step 4:* </span>  Optimize the Naive Bayes Classification Method and re-evaluate it"
      ]
    },
    {
      "cell_type": "markdown",
      "metadata": {
        "id": "_JUJ_mRiFktL"
      },
      "source": [
        "### a. Tokenization and Lemmanization"
      ]
    },
    {
      "cell_type": "code",
      "metadata": {
        "id": "8poZFKfFFktL",
        "outputId": "f5dac39b-5de0-4117-a202-d521848d7a8e"
      },
      "source": [
        "import nltk\n",
        "\n",
        "# nltk.download('wordnet')\n",
        "\n",
        "#Tokenization and Lemmanization in train data\n",
        "w_tokenizer = nltk.tokenize.WhitespaceTokenizer()\n",
        "lemmatizer = nltk.stem.WordNetLemmatizer()\n",
        "\n",
        "def lemmatize_text(text):\n",
        "    return \" \".join([lemmatizer.lemmatize(w, pos=\"v\") for w in w_tokenizer.tokenize(text)])\n",
        "\n",
        "tr_df = pd.read_pickle(\"train_df.pkl\")\n",
        "\n",
        "tr_df['Comment'] = tr_df.Comment.apply(lemmatize_text).copy()\n",
        "\n",
        "tr_df"
      ],
      "execution_count": null,
      "outputs": [
        {
          "output_type": "execute_result",
          "data": {
            "text/html": [
              "<div>\n",
              "<style scoped>\n",
              "    .dataframe tbody tr th:only-of-type {\n",
              "        vertical-align: middle;\n",
              "    }\n",
              "\n",
              "    .dataframe tbody tr th {\n",
              "        vertical-align: top;\n",
              "    }\n",
              "\n",
              "    .dataframe thead th {\n",
              "        text-align: right;\n",
              "    }\n",
              "</style>\n",
              "<table border=\"1\" class=\"dataframe\">\n",
              "  <thead>\n",
              "    <tr style=\"text-align: right;\">\n",
              "      <th></th>\n",
              "      <th>Insult</th>\n",
              "      <th>Date</th>\n",
              "      <th>Comment</th>\n",
              "    </tr>\n",
              "  </thead>\n",
              "  <tbody>\n",
              "    <tr>\n",
              "      <th>0</th>\n",
              "      <td>1</td>\n",
              "      <td>20120618192155Z</td>\n",
              "      <td>you fuck your dad</td>\n",
              "    </tr>\n",
              "    <tr>\n",
              "      <th>1</th>\n",
              "      <td>0</td>\n",
              "      <td>20120528192215Z</td>\n",
              "      <td>i really dont understand your pointxa0 it seem...</td>\n",
              "    </tr>\n",
              "    <tr>\n",
              "      <th>2</th>\n",
              "      <td>0</td>\n",
              "      <td>NaN</td>\n",
              "      <td>axc2xa0majority of canadians can and have be w...</td>\n",
              "    </tr>\n",
              "    <tr>\n",
              "      <th>3</th>\n",
              "      <td>0</td>\n",
              "      <td>NaN</td>\n",
              "      <td>listen if you dont wanna get marry to a man or...</td>\n",
              "    </tr>\n",
              "    <tr>\n",
              "      <th>4</th>\n",
              "      <td>0</td>\n",
              "      <td>20120619094753Z</td>\n",
              "      <td>cxe1c bu1ea1n xuu1ed1ng u0111u01b0u1eddng biu1...</td>\n",
              "    </tr>\n",
              "    <tr>\n",
              "      <th>...</th>\n",
              "      <td>...</td>\n",
              "      <td>...</td>\n",
              "      <td>...</td>\n",
              "    </tr>\n",
              "    <tr>\n",
              "      <th>3942</th>\n",
              "      <td>1</td>\n",
              "      <td>20120502172717Z</td>\n",
              "      <td>you be both morons and that be never happen</td>\n",
              "    </tr>\n",
              "    <tr>\n",
              "      <th>3943</th>\n",
              "      <td>0</td>\n",
              "      <td>20120528164814Z</td>\n",
              "      <td>many toolbars include spell check like yahoo f...</td>\n",
              "    </tr>\n",
              "    <tr>\n",
              "      <th>3944</th>\n",
              "      <td>0</td>\n",
              "      <td>20120620142813Z</td>\n",
              "      <td>lambeauorwrigleyxa0xa0kmossxa0nsioux fall sd i...</td>\n",
              "    </tr>\n",
              "    <tr>\n",
              "      <th>3945</th>\n",
              "      <td>0</td>\n",
              "      <td>20120528205648Z</td>\n",
              "      <td>how about felix he be sure turn into one hell ...</td>\n",
              "    </tr>\n",
              "    <tr>\n",
              "      <th>3946</th>\n",
              "      <td>0</td>\n",
              "      <td>20120515200734Z</td>\n",
              "      <td>youre all upset defend this hipster bandand be...</td>\n",
              "    </tr>\n",
              "  </tbody>\n",
              "</table>\n",
              "<p>3947 rows × 3 columns</p>\n",
              "</div>"
            ],
            "text/plain": [
              "      Insult             Date  \\\n",
              "0          1  20120618192155Z   \n",
              "1          0  20120528192215Z   \n",
              "2          0              NaN   \n",
              "3          0              NaN   \n",
              "4          0  20120619094753Z   \n",
              "...      ...              ...   \n",
              "3942       1  20120502172717Z   \n",
              "3943       0  20120528164814Z   \n",
              "3944       0  20120620142813Z   \n",
              "3945       0  20120528205648Z   \n",
              "3946       0  20120515200734Z   \n",
              "\n",
              "                                                Comment  \n",
              "0                                     you fuck your dad  \n",
              "1     i really dont understand your pointxa0 it seem...  \n",
              "2     axc2xa0majority of canadians can and have be w...  \n",
              "3     listen if you dont wanna get marry to a man or...  \n",
              "4     cxe1c bu1ea1n xuu1ed1ng u0111u01b0u1eddng biu1...  \n",
              "...                                                 ...  \n",
              "3942        you be both morons and that be never happen  \n",
              "3943  many toolbars include spell check like yahoo f...  \n",
              "3944  lambeauorwrigleyxa0xa0kmossxa0nsioux fall sd i...  \n",
              "3945  how about felix he be sure turn into one hell ...  \n",
              "3946  youre all upset defend this hipster bandand be...  \n",
              "\n",
              "[3947 rows x 3 columns]"
            ]
          },
          "metadata": {
            "tags": []
          },
          "execution_count": 64
        }
      ]
    },
    {
      "cell_type": "code",
      "metadata": {
        "id": "MKK1OCx_FktS",
        "outputId": "ff259836-4d3c-40c0-88ee-e27bf3ef7ae8"
      },
      "source": [
        "#Tokenization and Lemmanization in test data\n",
        "w_tokenizer = nltk.tokenize.WhitespaceTokenizer()\n",
        "lemmatizer = nltk.stem.WordNetLemmatizer()\n",
        "\n",
        "def lemmatize_text(text):\n",
        "    return \" \".join([lemmatizer.lemmatize(w, pos=\"v\") for w in w_tokenizer.tokenize(text)])\n",
        "\n",
        "ts_df = pd.read_pickle(\"test_df.pkl\")\n",
        "\n",
        "ts_df['Comment'] = ts_df.Comment.apply(lemmatize_text).copy()\n",
        "\n",
        "ts_df"
      ],
      "execution_count": null,
      "outputs": [
        {
          "output_type": "execute_result",
          "data": {
            "text/html": [
              "<div>\n",
              "<style scoped>\n",
              "    .dataframe tbody tr th:only-of-type {\n",
              "        vertical-align: middle;\n",
              "    }\n",
              "\n",
              "    .dataframe tbody tr th {\n",
              "        vertical-align: top;\n",
              "    }\n",
              "\n",
              "    .dataframe thead th {\n",
              "        text-align: right;\n",
              "    }\n",
              "</style>\n",
              "<table border=\"1\" class=\"dataframe\">\n",
              "  <thead>\n",
              "    <tr style=\"text-align: right;\">\n",
              "      <th></th>\n",
              "      <th>id</th>\n",
              "      <th>Insult</th>\n",
              "      <th>Date</th>\n",
              "      <th>Comment</th>\n",
              "      <th>Usage</th>\n",
              "    </tr>\n",
              "  </thead>\n",
              "  <tbody>\n",
              "    <tr>\n",
              "      <th>0</th>\n",
              "      <td>1</td>\n",
              "      <td>0</td>\n",
              "      <td>20120603163526Z</td>\n",
              "      <td>like this if you be a tribe fan</td>\n",
              "      <td>PrivateTest</td>\n",
              "    </tr>\n",
              "    <tr>\n",
              "      <th>1</th>\n",
              "      <td>2</td>\n",
              "      <td>1</td>\n",
              "      <td>20120531215447Z</td>\n",
              "      <td>youre idiot</td>\n",
              "      <td>PrivateTest</td>\n",
              "    </tr>\n",
              "    <tr>\n",
              "      <th>2</th>\n",
              "      <td>3</td>\n",
              "      <td>1</td>\n",
              "      <td>20120823164228Z</td>\n",
              "      <td>i be a woman babs and the only war on women i ...</td>\n",
              "      <td>PrivateTest</td>\n",
              "    </tr>\n",
              "    <tr>\n",
              "      <th>3</th>\n",
              "      <td>4</td>\n",
              "      <td>1</td>\n",
              "      <td>20120826010752Z</td>\n",
              "      <td>wow you benefit so many win this year from his...</td>\n",
              "      <td>PrivateTest</td>\n",
              "    </tr>\n",
              "    <tr>\n",
              "      <th>4</th>\n",
              "      <td>5</td>\n",
              "      <td>1</td>\n",
              "      <td>20120602223825Z</td>\n",
              "      <td>haha green me red you now loser whos win now m...</td>\n",
              "      <td>PrivateTest</td>\n",
              "    </tr>\n",
              "    <tr>\n",
              "      <th>...</th>\n",
              "      <td>...</td>\n",
              "      <td>...</td>\n",
              "      <td>...</td>\n",
              "      <td>...</td>\n",
              "      <td>...</td>\n",
              "    </tr>\n",
              "    <tr>\n",
              "      <th>2230</th>\n",
              "      <td>2231</td>\n",
              "      <td>0</td>\n",
              "      <td>20120528100303Z</td>\n",
              "      <td>fuckin lame come on wtf stop fuck over my bity...</td>\n",
              "      <td>PrivateTest</td>\n",
              "    </tr>\n",
              "    <tr>\n",
              "      <th>2231</th>\n",
              "      <td>2232</td>\n",
              "      <td>1</td>\n",
              "      <td>20120531185813Z</td>\n",
              "      <td>you shut your ignorant pie hole you little ins...</td>\n",
              "      <td>PrivateTest</td>\n",
              "    </tr>\n",
              "    <tr>\n",
              "      <th>2232</th>\n",
              "      <td>2233</td>\n",
              "      <td>0</td>\n",
              "      <td>20120529130822Z</td>\n",
              "      <td>sweetie pie be look very much like her cousin ...</td>\n",
              "      <td>PrivateTest</td>\n",
              "    </tr>\n",
              "    <tr>\n",
              "      <th>2233</th>\n",
              "      <td>2234</td>\n",
              "      <td>1</td>\n",
              "      <td>20120531045826Z</td>\n",
              "      <td>ball4real where be you with your miami gayness</td>\n",
              "      <td>PrivateTest</td>\n",
              "    </tr>\n",
              "    <tr>\n",
              "      <th>2234</th>\n",
              "      <td>2235</td>\n",
              "      <td>0</td>\n",
              "      <td>20120531184524Z</td>\n",
              "      <td>manif you be a 3 point shooter you must love p...</td>\n",
              "      <td>PrivateTest</td>\n",
              "    </tr>\n",
              "  </tbody>\n",
              "</table>\n",
              "<p>2235 rows × 5 columns</p>\n",
              "</div>"
            ],
            "text/plain": [
              "        id  Insult             Date  \\\n",
              "0        1       0  20120603163526Z   \n",
              "1        2       1  20120531215447Z   \n",
              "2        3       1  20120823164228Z   \n",
              "3        4       1  20120826010752Z   \n",
              "4        5       1  20120602223825Z   \n",
              "...    ...     ...              ...   \n",
              "2230  2231       0  20120528100303Z   \n",
              "2231  2232       1  20120531185813Z   \n",
              "2232  2233       0  20120529130822Z   \n",
              "2233  2234       1  20120531045826Z   \n",
              "2234  2235       0  20120531184524Z   \n",
              "\n",
              "                                                Comment        Usage  \n",
              "0                       like this if you be a tribe fan  PrivateTest  \n",
              "1                                           youre idiot  PrivateTest  \n",
              "2     i be a woman babs and the only war on women i ...  PrivateTest  \n",
              "3     wow you benefit so many win this year from his...  PrivateTest  \n",
              "4     haha green me red you now loser whos win now m...  PrivateTest  \n",
              "...                                                 ...          ...  \n",
              "2230  fuckin lame come on wtf stop fuck over my bity...  PrivateTest  \n",
              "2231  you shut your ignorant pie hole you little ins...  PrivateTest  \n",
              "2232  sweetie pie be look very much like her cousin ...  PrivateTest  \n",
              "2233     ball4real where be you with your miami gayness  PrivateTest  \n",
              "2234  manif you be a 3 point shooter you must love p...  PrivateTest  \n",
              "\n",
              "[2235 rows x 5 columns]"
            ]
          },
          "metadata": {
            "tags": []
          },
          "execution_count": 65
        }
      ]
    },
    {
      "cell_type": "markdown",
      "metadata": {
        "id": "QIoiFY7mFktW"
      },
      "source": [
        "We take our data again, after we have cleaned it"
      ]
    },
    {
      "cell_type": "code",
      "metadata": {
        "id": "Hyp7bgHDFktX"
      },
      "source": [
        "train = tr_df['Comment'].tolist()\n",
        "test = ts_df['Comment'].tolist()"
      ],
      "execution_count": null,
      "outputs": []
    },
    {
      "cell_type": "markdown",
      "metadata": {
        "id": "A_cvtdyQFktc"
      },
      "source": [
        "### b. Vectorization και αξιολόγηση Naive Bayes μετά το lemmanization"
      ]
    },
    {
      "cell_type": "code",
      "metadata": {
        "id": "pDeJvOqeFkte",
        "outputId": "f605bbd9-c34e-46f1-f0ce-f200c3ec0378"
      },
      "source": [
        "from sklearn.feature_extraction.text import CountVectorizer\n",
        "\n",
        "count_vectorizer = CountVectorizer()\n",
        "bowX_train = count_vectorizer.fit_transform(tr_df['Comment'].tolist()) #For training set\n",
        "bowX_test = count_vectorizer.transform(ts_df['Comment'].tolist())  #For testing set\n",
        "\n",
        "gnb1 = GaussianNB()\n",
        "gnb1.fit(bowX_train.toarray(), label_train)\n",
        "predictions = gnb1.predict(bowX_test.toarray())\n",
        "\n",
        "#F1 \n",
        "nb_bow_f1_test_score_1 = \"{:.2f}\".format(f1_score(label_test,predictions,average='weighted'))\n",
        "print('F1 score of Bag-of-words with Naive-Bayes Classifier: ' , nb_bow_f1_test_score_1)\n",
        "\n",
        "#Accuracy\n",
        "nb_bow_acc_test_score_1 = \"{:.2f}\".format(accuracy_score(label_test,predictions))\n",
        "print('Accuracy score of Bag-of-words with Naive-Bayes Classifier: ' , nb_bow_acc_test_score_1)"
      ],
      "execution_count": null,
      "outputs": [
        {
          "output_type": "stream",
          "text": [
            "F1 score of Bag-of-words with Naive-Bayes Classifier:  0.51\n",
            "Accuracy score of Bag-of-words with Naive-Bayes Classifier:  0.52\n"
          ],
          "name": "stdout"
        }
      ]
    },
    {
      "cell_type": "markdown",
      "metadata": {
        "id": "esz4Vnp8Fkti"
      },
      "source": [
        "### c. Vectorization with Bag-of-Words after removing stopwords and evaluate Naive Bayes"
      ]
    },
    {
      "cell_type": "code",
      "metadata": {
        "id": "Tk6sFNO5Fktj",
        "outputId": "59d7a894-d4b4-492a-daa1-bb7fb2850e2a"
      },
      "source": [
        "from sklearn.feature_extraction.text import CountVectorizer\n",
        "\n",
        "tr_df = pd.read_pickle(\"train_df.pkl\")\n",
        "ts_df = pd.read_pickle(\"test_df.pkl\")\n",
        "\n",
        "count_vectorizer = CountVectorizer(stop_words='english')\n",
        "bowX_train = count_vectorizer.fit_transform(tr_df['Comment'].tolist())\n",
        "bowX_test = count_vectorizer.transform(ts_df['Comment'].tolist())\n",
        "\n",
        "gnb1 = GaussianNB()\n",
        "gnb1.fit(bowX_train.toarray(), label_train)\n",
        "predictions = gnb1.predict(bowX_test.toarray())\n",
        "\n",
        "#F1 \n",
        "nb_bow_f1_test_score_2 = \"{:.2f}\".format(f1_score(label_test,predictions,average='weighted'))\n",
        "print('F1 score of Bag-of-words with Naive-Bayes Classifier: ' , nb_bow_f1_test_score_2)\n",
        "\n",
        "#Accuracy\n",
        "nb_bow_acc_test_score_2 = \"{:.2f}\".format(accuracy_score(label_test,predictions))\n",
        "print('Accuracy score of Bag-of-words with Naive-Bayes Classifier: ' , nb_bow_acc_test_score_2)"
      ],
      "execution_count": null,
      "outputs": [
        {
          "output_type": "stream",
          "text": [
            "F1 score of Bag-of-words with Naive-Bayes Classifier:  0.53\n",
            "Accuracy score of Bag-of-words with Naive-Bayes Classifier:  0.53\n"
          ],
          "name": "stdout"
        }
      ]
    },
    {
      "cell_type": "markdown",
      "metadata": {
        "id": "xzVFZT5bFktn"
      },
      "source": [
        "### d. Vectorization with Bag-of-Words using bigrams and evaluate Naive Bayes"
      ]
    },
    {
      "cell_type": "code",
      "metadata": {
        "id": "qvppPDVtFkto",
        "outputId": "68ad6337-d6c1-44ec-f965-7c7a9ed5b6d2"
      },
      "source": [
        "from sklearn.feature_extraction.text import CountVectorizer\n",
        "\n",
        "tr_df = pd.read_pickle(\"train_df.pkl\")\n",
        "ts_df = pd.read_pickle(\"test_df.pkl\")\n",
        "\n",
        "tr_df = tr_df.filter(['Insult', 'Comment'])\n",
        "\n",
        "tr_df.dropna(inplace=True)\n",
        "ts_df.dropna(inplace=True)\n",
        "\n",
        "count_vectorizer = CountVectorizer(ngram_range=(2,2),max_features=30000)\n",
        "bowX_train = count_vectorizer.fit_transform(tr_df['Comment'].tolist())\n",
        "bowX_test = count_vectorizer.transform(ts_df['Comment'].tolist())\n",
        "# bowX_train = count_vectorizer.fit_transform(tr_df['Comment'].tolist())\n",
        "\n",
        "gnb1 = GaussianNB()\n",
        "gnb1.fit(bowX_train.toarray(), label_train)\n",
        "predictions = gnb1.predict(bowX_test.toarray())\n",
        "\n",
        "#F1 \n",
        "nb_bow_f1_test_score_3 = \"{:.2f}\".format(f1_score(label_test,predictions,average='weighted'))\n",
        "print('F1 score of Bag-of-words with Naive-Bayes Classifier: ' , nb_bow_f1_test_score_3)\n",
        "\n",
        "#Accuracy\n",
        "nb_bow_acc_test_score_3 = \"{:.2f}\".format(accuracy_score(label_test,predictions))\n",
        "print('Accuracy score of Bag-of-words with Naive-Bayes Classifier: ' , nb_bow_acc_test_score_3)"
      ],
      "execution_count": null,
      "outputs": [
        {
          "output_type": "stream",
          "text": [
            "F1 score of Bag-of-words with Naive-Bayes Classifier:  0.55\n",
            "Accuracy score of Bag-of-words with Naive-Bayes Classifier:  0.55\n"
          ],
          "name": "stdout"
        }
      ]
    },
    {
      "cell_type": "markdown",
      "metadata": {
        "id": "xoxEL6A3Fkts"
      },
      "source": [
        "### e. Vectorization with Bag-of-Words and evaluate Naive Bayes using Laplace Smoothing"
      ]
    },
    {
      "cell_type": "code",
      "metadata": {
        "id": "VwsyWu5SFktt",
        "outputId": "42b133e5-82e8-4962-f22e-e49127763eea"
      },
      "source": [
        "from sklearn.naive_bayes import MultinomialNB\n",
        "from sklearn.feature_extraction.text import CountVectorizer\n",
        "\n",
        "tr_df = pd.read_pickle(\"train_df.pkl\")\n",
        "ts_df = pd.read_pickle(\"test_df.pkl\")\n",
        "\n",
        "count_vectorizer = CountVectorizer()\n",
        "bowX_train = count_vectorizer.fit_transform(tr_df['Comment'].tolist())\n",
        "bowX_test = count_vectorizer.transform(ts_df['Comment'].tolist())\n",
        "\n",
        "\n",
        "gnb1 = MultinomialNB(alpha=1.0)\n",
        "gnb1.fit(bowX_train.toarray(), label_train)\n",
        "predictions = gnb1.predict(bowX_test.toarray())\n",
        "\n",
        "#F1 \n",
        "nb_bow_f1_test_score_4 = \"{:.2f}\".format(f1_score(label_test,predictions,average='weighted'))\n",
        "print('F1 score of Bag-of-words with Naive-Bayes Classifier: ' , nb_bow_f1_test_score_4)\n",
        "\n",
        "#Accuracy\n",
        "nb_bow_acc_test_score_4 = \"{:.2f}\".format(accuracy_score(label_test,predictions))\n",
        "print('Accuracy score of Bag-of-words with Naive-Bayes Classifier: ' , nb_bow_acc_test_score_4)"
      ],
      "execution_count": null,
      "outputs": [
        {
          "output_type": "stream",
          "text": [
            "F1 score of Bag-of-words with Naive-Bayes Classifier:  0.67\n",
            "Accuracy score of Bag-of-words with Naive-Bayes Classifier:  0.68\n"
          ],
          "name": "stdout"
        }
      ]
    },
    {
      "cell_type": "markdown",
      "metadata": {
        "id": "dSi8-2KAFktx"
      },
      "source": [
        "##    <span style='color:Blue'>*Step 5:* </span>  Summary of results"
      ]
    },
    {
      "cell_type": "code",
      "metadata": {
        "id": "e46mu5vxFktz",
        "outputId": "d2cafef3-764b-4fca-9ceb-1c400e9e4603"
      },
      "source": [
        "all_f1 = []\n",
        "all_accuracy = []\n",
        "\n",
        "all_f1.append(nb_bow_f1_test_score_0)\n",
        "all_f1.append(nb_bow_f1_test_score_1)\n",
        "all_f1.append(nb_bow_f1_test_score_2)\n",
        "all_f1.append(nb_bow_f1_test_score_3)\n",
        "all_f1.append(nb_bow_f1_test_score_4)\n",
        "\n",
        "all_accuracy.append(nb_bow_acc_test_score_0)\n",
        "all_accuracy.append(nb_bow_acc_test_score_1)\n",
        "all_accuracy.append(nb_bow_acc_test_score_2)\n",
        "all_accuracy.append(nb_bow_acc_test_score_3)\n",
        "all_accuracy.append(nb_bow_acc_test_score_4)\n",
        "\n",
        "data = {'Method': ['Without_Cleaning', 'Lemmatization', 'Stop_Words', 'Bigrams', 'Laplace_Smoothing'],\n",
        "            'F1': all_f1,\n",
        "            'Accuracy': all_accuracy\n",
        "           }\n",
        "df = pd.DataFrame(data, columns = ['Method', 'F1', 'Accuracy'])\n",
        "df"
      ],
      "execution_count": null,
      "outputs": [
        {
          "output_type": "execute_result",
          "data": {
            "text/html": [
              "<div>\n",
              "<style scoped>\n",
              "    .dataframe tbody tr th:only-of-type {\n",
              "        vertical-align: middle;\n",
              "    }\n",
              "\n",
              "    .dataframe tbody tr th {\n",
              "        vertical-align: top;\n",
              "    }\n",
              "\n",
              "    .dataframe thead th {\n",
              "        text-align: right;\n",
              "    }\n",
              "</style>\n",
              "<table border=\"1\" class=\"dataframe\">\n",
              "  <thead>\n",
              "    <tr style=\"text-align: right;\">\n",
              "      <th></th>\n",
              "      <th>Method</th>\n",
              "      <th>F1</th>\n",
              "      <th>Accuracy</th>\n",
              "    </tr>\n",
              "  </thead>\n",
              "  <tbody>\n",
              "    <tr>\n",
              "      <th>0</th>\n",
              "      <td>Without_Cleaning</td>\n",
              "      <td>0.53</td>\n",
              "      <td>0.53</td>\n",
              "    </tr>\n",
              "    <tr>\n",
              "      <th>1</th>\n",
              "      <td>Lemmatization</td>\n",
              "      <td>0.51</td>\n",
              "      <td>0.52</td>\n",
              "    </tr>\n",
              "    <tr>\n",
              "      <th>2</th>\n",
              "      <td>Stop_Words</td>\n",
              "      <td>0.53</td>\n",
              "      <td>0.53</td>\n",
              "    </tr>\n",
              "    <tr>\n",
              "      <th>3</th>\n",
              "      <td>Bigrams</td>\n",
              "      <td>0.55</td>\n",
              "      <td>0.55</td>\n",
              "    </tr>\n",
              "    <tr>\n",
              "      <th>4</th>\n",
              "      <td>Laplace_Smoothing</td>\n",
              "      <td>0.67</td>\n",
              "      <td>0.68</td>\n",
              "    </tr>\n",
              "  </tbody>\n",
              "</table>\n",
              "</div>"
            ],
            "text/plain": [
              "              Method    F1 Accuracy\n",
              "0   Without_Cleaning  0.53     0.53\n",
              "1      Lemmatization  0.51     0.52\n",
              "2         Stop_Words  0.53     0.53\n",
              "3            Bigrams  0.55     0.55\n",
              "4  Laplace_Smoothing  0.67     0.68"
            ]
          },
          "metadata": {
            "tags": []
          },
          "execution_count": 71
        }
      ]
    },
    {
      "cell_type": "code",
      "metadata": {
        "id": "LeuCbr2XFkt3",
        "outputId": "580d3ec8-1e91-49d0-d79b-34839db163a9"
      },
      "source": [
        "\"\"\"\n",
        "We represented the above information\n",
        "with the form of bars.\n",
        "\"\"\"\n",
        "\n",
        "sns.set(rc={'figure.figsize':(15,10)})\n",
        "ax = sns.barplot(x='Method', y='F1', data=df, palette='tab20')\\\n",
        "                    .set_title('F1 Scores per Classification Method',fontsize=22)\n",
        "\n",
        "plt.xticks(rotation=0)\n",
        "plt.xlabel('Classification Method', fontsize=18)\n",
        "plt.ylabel('F1 Score', fontsize=18)\n",
        "plt.tick_params(axis='x', labelsize=15)\n",
        "plt.tick_params(axis='y', labelsize=15)\n",
        "plt.ylim(0.4, 0.75)"
      ],
      "execution_count": null,
      "outputs": [
        {
          "output_type": "execute_result",
          "data": {
            "text/plain": [
              "(0.4, 0.75)"
            ]
          },
          "metadata": {
            "tags": []
          },
          "execution_count": 72
        },
        {
          "output_type": "display_data",
          "data": {
            "image/png": "[encoded data removed]",
            "text/plain": [
              "<Figure size 1080x720 with 1 Axes>"
            ]
          },
          "metadata": {
            "tags": []
          }
        }
      ]
    },
    {
      "cell_type": "code",
      "metadata": {
        "id": "ZqBKipnEFkt7",
        "outputId": "02b29f74-48fe-4077-c002-98ad4044fe02"
      },
      "source": [
        "\"\"\"\n",
        "We represented the above information\n",
        "with the form of bars.\n",
        "\"\"\"\n",
        "\n",
        "sns.set(rc={'figure.figsize':(15,10)})\n",
        "ax = sns.barplot(x='Method', y='Accuracy', data=df, palette='husl')\\\n",
        "                    .set_title('Accuracy Scores per Classification Method',fontsize=22)\n",
        "\n",
        "plt.xticks(rotation=0)\n",
        "plt.xlabel('Classification Method', fontsize=18)\n",
        "plt.ylabel('Accuracy Score', fontsize=18)\n",
        "plt.tick_params(axis='x', labelsize=15)\n",
        "plt.tick_params(axis='y', labelsize=15)\n",
        "plt.ylim(0.4, 0.75)"
      ],
      "execution_count": null,
      "outputs": [
        {
          "output_type": "execute_result",
          "data": {
            "text/plain": [
              "(0.4, 0.75)"
            ]
          },
          "metadata": {
            "tags": []
          },
          "execution_count": 73
        },
        {
          "output_type": "display_data",
          "data": {
            "image/png": "[encoded data removed]",
            "text/plain": [
              "<Figure size 1080x720 with 1 Axes>"
            ]
          },
          "metadata": {
            "tags": []
          }
        }
      ]
    },
    {
      "cell_type": "markdown",
      "metadata": {
        "id": "FwF8LWd6Fkt-"
      },
      "source": [
        "\n",
        "##    <span style='color:Blue'>*Step 6:* </span> Summary"
      ]
    },
    {
      "cell_type": "markdown",
      "metadata": {
        "id": "Q5Y-Dk6oFkt_"
      },
      "source": [
        "In general, in all the results the basic cleaning has been done according to pronunciation, ie conversion of all characters in lower case, removal of the punctuation marks, special characters, links and html tags.\n",
        "\n",
        "According to the representation of the above results we observe:\n",
        "\n",
        "- F1 Score is almost the same as Accuracy Score, with some exceptions in which Accuracy Score is slightly better (eg after Lemmatization and after using Laplace Smoothing)\n",
        "- Naive Bayes has the worst performance (~ 0.51) after Lemmatization, because Comments contain a lot of slangs and innovations in general, and it is difficult (almost impossible) to recognize these words.\n",
        "- Then we notice that after removing stopwords or the use of bigrams the algorithm did better with performances of ~ 0.53 and. 0.55 respectively.\n",
        "- We also notice that whether we remove the stop-words or not, the score remains the same (~ 0.53). I think this happens mainly, because as I explain below the pronouns (you, your etc) play an important role in the comments (whether it will be offensive or not). Thus, stop-words can remove useless words like the, is, and etc but at the same time it removes words important for the correct prediction of the comment.\n",
        "- Finally, we observe that the algorithm has the best performance of score 0.68 after the application of Laplace Smoothing. This is because we give alpha the value of 1. In essence, with this assignment of MultinomialNB, the probability of a word appearing will never be zero, unlike the simple Naive Bayes, which gives zero probability to words that appear rarely, spoiling the \"gravity\" of the comment. Therefore, Laplace Smoothing, gives the opportunity to words that appear more often to play a more important role and therefore to predict more comments correctly."
      ]
    },
    {
      "cell_type": "markdown",
      "metadata": {
        "id": "OU72M4B4FkuB"
      },
      "source": [
        "##  <span style='color:Purple'>*Now I will create a more complex feature table containing both Part-Of-Speech features and TF-IDF-based features*</span>"
      ]
    },
    {
      "cell_type": "markdown",
      "metadata": {
        "id": "9FPVF4GgFkuD"
      },
      "source": [
        "##    <span style='color:Blue'>*Step 1:* </span> Vectorization"
      ]
    },
    {
      "cell_type": "markdown",
      "metadata": {
        "id": "2xgDXNIrFkuF"
      },
      "source": [
        "### TF-IDF"
      ]
    },
    {
      "cell_type": "code",
      "metadata": {
        "id": "dWTkSfNhFkuG",
        "outputId": "3de18ac0-4707-4643-85be-814259752402"
      },
      "source": [
        "from sklearn.feature_extraction.text import TfidfVectorizer\n",
        "\n",
        "tr_df = pd.read_pickle(\"train_df.pkl\")\n",
        "ts_df = pd.read_pickle(\"test_df.pkl\")\n",
        "\n",
        "train = tr_df['Comment'].tolist()\n",
        "test = ts_df['Comment'].tolist()\n",
        "\n",
        "tfidf_vectorizer = TfidfVectorizer(max_features=1000)\n",
        "tfidfX_train = tfidf_vectorizer.fit_transform(train)\n",
        "tfidfX_test = tfidf_vectorizer.transform(test)\n",
        "\n",
        "print(\"TF-IDF train shape:\", tfidfX_train.shape)\n",
        "print(\"TF-IDF test shape:\", tfidfX_test.shape)\n",
        "\n",
        "tfidfX_train_array = tfidfX_train.toarray()\n",
        "tfidfX_test_array = tfidfX_test.toarray()"
      ],
      "execution_count": null,
      "outputs": [
        {
          "output_type": "stream",
          "text": [
            "TF-IDF train shape: (3947, 1000)\n",
            "TF-IDF test shape: (2235, 1000)\n"
          ],
          "name": "stdout"
        }
      ]
    },
    {
      "cell_type": "markdown",
      "metadata": {
        "id": "AwNxrFiRFkuK"
      },
      "source": [
        "##    <span style='color:Blue'>*Step 2:* </span> Create a Merged Table from Part-of-Speech Based Features and TF-IDF Based Features"
      ]
    },
    {
      "cell_type": "markdown",
      "metadata": {
        "id": "GJ0VEjt9FkuM"
      },
      "source": [
        "In this query, using the NTLK library, I find (for each comment) the number of nouns, verbs, adjectives and adverbs it has. After I find the percentage of the specific tags for each comment, then I add these 4 percentages in a list. After I have converted the tf-idf attributes to a list, then I put them all together in a list and convert it to np array. So if I print the new shape of the merged table, we will see that it changes from 1000 to 1004 (ie the 4 new features in each comment were successfully entered)."
      ]
    },
    {
      "cell_type": "markdown",
      "metadata": {
        "id": "T6Hc0_UIFkuM"
      },
      "source": [
        "### α. Part-of-speech Tagger for train data"
      ]
    },
    {
      "cell_type": "code",
      "metadata": {
        "id": "oLowRHnKFkuN",
        "outputId": "bd2be592-1611-4e66-81f5-3b9a14642830"
      },
      "source": [
        "import nltk\n",
        "\n",
        "merged_list_train = []\n",
        "\n",
        "for i, row in train_df.iterrows():\n",
        "    \n",
        "    list_of_pos_tags = []\n",
        "    noun = 0.00\n",
        "    verb = 0.00\n",
        "    adverb = 0.00\n",
        "    adjective = 0.00\n",
        "    \n",
        "    list_of_pos_tags = nltk.pos_tag(nltk.word_tokenize(train_df.loc[i,'Comment']))\n",
        "    #Find the number of nouns,verbs,adverbs and adjectives of each comment\n",
        "    for tpl in list_of_pos_tags:\n",
        "        if tpl[1] == \"NN\" or tpl[1] == \"NNS\":\n",
        "            noun = noun + 1\n",
        "        if tpl[1] == \"VB\" or tpl[1] == \"VBD\" or tpl[1] == \"VBG\" or tpl[1] == \"VBN\" or tpl[1] == \"VBP\" or tpl[1] == \"VBZ\":\n",
        "            verb = verb + 1\n",
        "        if tpl[1] == \"RB\" or tpl[1] == \"RBR\" or tpl[1] == \"RBS\":\n",
        "            adverb = adverb + 1\n",
        "        if tpl[1] == \"JJ\" or tpl[1] == \"JJR\" or tpl[1] == \"JJS\":\n",
        "            adjective = adjective + 1\n",
        "    \n",
        "    #Find the percentage of nouns,verbs,adverbs and adjectives of each comment\n",
        "    if len(list_of_pos_tags) != 0:\n",
        "        fractionAdverbs = adverb/len(list_of_pos_tags)\n",
        "        fractionVerbs = verb/len(list_of_pos_tags)\n",
        "        fractionAdjectives = adjective/len(list_of_pos_tags)\n",
        "        fractionNouns = noun/len(list_of_pos_tags)\n",
        "    \n",
        "#     print(fractionNouns, fractionVerbs, fractionAdverbs, fractionAdjectives)\n",
        "    \n",
        "    temp = []\n",
        "    #Concatenate the Part-of-Speech Based Features and TF-IDF Based Features in a list\n",
        "    temp = tfidfX_train_array[i].tolist()\n",
        "    temp.append(fractionNouns)\n",
        "    temp.append(fractionVerbs)\n",
        "    temp.append(fractionAdverbs)\n",
        "    temp.append(fractionAdjectives)\n",
        "    \n",
        "    merged_list_train.append(temp)\n",
        "    \n",
        "#Convert the concatenated list to np array\n",
        "merged_array_train = np.array(merged_list_train)\n",
        "print(\"Shape of final merged train array:\", merged_array_train.shape)"
      ],
      "execution_count": null,
      "outputs": [
        {
          "output_type": "stream",
          "text": [
            "Shape of final merged train array: (3947, 1004)\n"
          ],
          "name": "stdout"
        }
      ]
    },
    {
      "cell_type": "markdown",
      "metadata": {
        "id": "WzDgS2jXFkuR"
      },
      "source": [
        "### b. Part-of-speech Tagger for test data"
      ]
    },
    {
      "cell_type": "code",
      "metadata": {
        "id": "djsOt5OqFkue",
        "outputId": "6b316142-179c-4675-c58d-f3bca4b45732"
      },
      "source": [
        "import nltk\n",
        "\n",
        "merged_list_test = []\n",
        "\n",
        "for i, row in test_df.iterrows():\n",
        "    \n",
        "    list_of_pos_tags = []\n",
        "    noun = 0.00\n",
        "    verb = 0.00\n",
        "    adverb = 0.00\n",
        "    adjective = 0.00\n",
        "    \n",
        "    list_of_pos_tags = nltk.pos_tag(nltk.word_tokenize(test_df.loc[i,'Comment']))\n",
        "    #Find the number of nouns,verbs,adverbs and adjectives of each comment\n",
        "    for tpl in list_of_pos_tags:\n",
        "        if tpl[1] == \"NN\" or tpl[1] == \"NNS\":\n",
        "            noun = noun + 1\n",
        "        if tpl[1] == \"VB\" or tpl[1] == \"VBD\" or tpl[1] == \"VBG\" or tpl[1] == \"VBN\" or tpl[1] == \"VBP\" or tpl[1] == \"VBZ\":\n",
        "            verb = verb + 1\n",
        "        if tpl[1] == \"RB\" or tpl[1] == \"RBR\" or tpl[1] == \"RBS\":\n",
        "            adverb = adverb + 1\n",
        "        if tpl[1] == \"JJ\" or tpl[1] == \"JJR\" or tpl[1] == \"JJS\":\n",
        "            adjective = adjective + 1\n",
        "    \n",
        "    #Find the percentage of nouns,verbs,adverbs and adjectives of each comment\n",
        "    if len(list_of_pos_tags) != 0:\n",
        "        fractionAdverbs = adverb/len(list_of_pos_tags)\n",
        "        fractionVerbs = verb/len(list_of_pos_tags)\n",
        "        fractionAdjectives = adjective/len(list_of_pos_tags)\n",
        "        fractionNouns = noun/len(list_of_pos_tags)\n",
        "    \n",
        "#     print(fractionNouns, fractionVerbs, fractionAdverbs, fractionAdjectives)\n",
        "    \n",
        "    temp = []\n",
        "    #Concatenate the Part-of-Speech Based Features and TF-IDF Based Features in a list\n",
        "    temp = tfidfX_test_array[i].tolist()\n",
        "    temp.append(fractionNouns)\n",
        "    temp.append(fractionVerbs)\n",
        "    temp.append(fractionAdverbs)\n",
        "    temp.append(fractionAdjectives)\n",
        "    \n",
        "    merged_list_test.append(temp)\n",
        "\n",
        "#Convert the concatenated list to np array\n",
        "merged_array_test = np.array(merged_list_test)\n",
        "print(\"Shape of final merged test array:\", merged_array_test.shape)"
      ],
      "execution_count": null,
      "outputs": [
        {
          "output_type": "stream",
          "text": [
            "Shape of final merged test array: (2235, 1004)\n"
          ],
          "name": "stdout"
        }
      ]
    },
    {
      "cell_type": "markdown",
      "metadata": {
        "id": "BejA4q89Fkuh"
      },
      "source": [
        "##   <span style='color:Blue'>*Step 3:* </span>  We test SVM and Random Decision Forest Classification Methods in the part-of-speech and TF-IDF feature table and evaluate them"
      ]
    },
    {
      "cell_type": "markdown",
      "metadata": {
        "id": "e7c9UszdFkui"
      },
      "source": [
        "### α. SVM"
      ]
    },
    {
      "cell_type": "code",
      "metadata": {
        "id": "yExAzSndFkuj",
        "outputId": "44bb024c-d70a-4f1e-9f08-5b59cb87a204"
      },
      "source": [
        "from sklearn import svm \n",
        "from sklearn.model_selection import cross_val_score\n",
        "from sklearn.model_selection import GridSearchCV\n",
        "from sklearn.metrics import precision_score,recall_score,f1_score,accuracy_score,make_scorer\n",
        "\n",
        "gs_svc = svm.SVC(C=0.3,kernel='linear',probability=True)\n",
        "gs_svc.fit(merged_array_train, label_train)\n",
        "predictions = gs_svc.predict(merged_array_test)\n",
        "\n",
        "#F1 \n",
        "svm_tfidf_f1_test_score = \"{:.2f}\".format(f1_score(label_test,predictions,average='weighted'))\n",
        "print('F1 score of Tfidf with SVM Classifier: ' , svm_tfidf_f1_test_score)\n",
        "\n",
        "#Accuracy\n",
        "svm_tfidf_acc_test_score = \"{:.2f}\".format(accuracy_score(label_test,predictions))\n",
        "print('Accuracy score of Tfidf with SVM Classifier: ' , svm_tfidf_acc_test_score)"
      ],
      "execution_count": null,
      "outputs": [
        {
          "output_type": "stream",
          "text": [
            "F1 score of Tfidf with SVM Classifier:  0.61\n",
            "Accuracy score of Tfidf with SVM Classifier:  0.65\n"
          ],
          "name": "stdout"
        }
      ]
    },
    {
      "cell_type": "markdown",
      "metadata": {
        "id": "-tQ_mMEuFkun"
      },
      "source": [
        "### b. Random Decision Forest"
      ]
    },
    {
      "cell_type": "code",
      "metadata": {
        "id": "QsBke2rCFkun",
        "outputId": "c47de542-9379-4e74-cf65-73abb85a1947"
      },
      "source": [
        "from sklearn.ensemble import RandomForestClassifier\n",
        "from sklearn.model_selection import cross_val_score\n",
        "from sklearn.metrics import precision_score,recall_score,f1_score,accuracy_score\n",
        "\n",
        "rf2 = RandomForestClassifier(n_estimators=100)\n",
        "rf2.fit(merged_array_train, label_train)\n",
        "predictions = rf2.predict(merged_array_test)\n",
        "\n",
        "#F1\n",
        "rf_tfidf_f1_test_score = \"{:.2f}\".format(f1_score(label_test,predictions,average='weighted'))\n",
        "print('F1 score of Tfidf with Random-Forests Classifier:' , rf_tfidf_f1_test_score)\n",
        "\n",
        "\n",
        "#Accuracy\n",
        "rf_tfidf_acc_test_score = \"{:.2f}\".format(accuracy_score(label_test,predictions))\n",
        "print('Accuracy score of Tfidf with Random-Forests Classifier: ' , rf_tfidf_acc_test_score)"
      ],
      "execution_count": null,
      "outputs": [
        {
          "output_type": "stream",
          "text": [
            "F1 score of Tfidf with Random-Forests Classifier: 0.60\n",
            "Accuracy score of Tfidf with Random-Forests Classifier:  0.64\n"
          ],
          "name": "stdout"
        }
      ]
    },
    {
      "cell_type": "markdown",
      "metadata": {
        "id": "NJEg7NiPFkuq"
      },
      "source": [
        "##  <span style='color:Purple'>*Now I will experiment with some methods to try to achieve the best possible results in the test set (Beat the Benchmark)*</span>"
      ]
    },
    {
      "cell_type": "markdown",
      "metadata": {
        "id": "mqFMk29aFkur"
      },
      "source": [
        "##    <span style='color:Blue'>*Step 1:* </span> Tokenization and Lemmanization "
      ]
    },
    {
      "cell_type": "code",
      "metadata": {
        "id": "yS5_qiJRFkur",
        "outputId": "49b11519-9af6-4aa1-9eac-00cec5c32b92"
      },
      "source": [
        "import nltk\n",
        "\n",
        "# nltk.download('wordnet')\n",
        "\n",
        "#Tokenization and Lemmanization in train data\n",
        "w_tokenizer = nltk.tokenize.WhitespaceTokenizer()\n",
        "lemmatizer = nltk.stem.WordNetLemmatizer()\n",
        "\n",
        "def lemmatize_text(text):\n",
        "    return \" \".join([lemmatizer.lemmatize(w, pos=\"v\") for w in w_tokenizer.tokenize(text)])\n",
        "\n",
        "tr_df = pd.read_pickle(\"train_df.pkl\")\n",
        "\n",
        "tr_df['Comment'] = tr_df.Comment.apply(lemmatize_text).copy()\n",
        "\n",
        "tr_df"
      ],
      "execution_count": null,
      "outputs": [
        {
          "output_type": "execute_result",
          "data": {
            "text/html": [
              "<div>\n",
              "<style scoped>\n",
              "    .dataframe tbody tr th:only-of-type {\n",
              "        vertical-align: middle;\n",
              "    }\n",
              "\n",
              "    .dataframe tbody tr th {\n",
              "        vertical-align: top;\n",
              "    }\n",
              "\n",
              "    .dataframe thead th {\n",
              "        text-align: right;\n",
              "    }\n",
              "</style>\n",
              "<table border=\"1\" class=\"dataframe\">\n",
              "  <thead>\n",
              "    <tr style=\"text-align: right;\">\n",
              "      <th></th>\n",
              "      <th>Insult</th>\n",
              "      <th>Date</th>\n",
              "      <th>Comment</th>\n",
              "    </tr>\n",
              "  </thead>\n",
              "  <tbody>\n",
              "    <tr>\n",
              "      <th>0</th>\n",
              "      <td>1</td>\n",
              "      <td>20120618192155Z</td>\n",
              "      <td>you fuck your dad</td>\n",
              "    </tr>\n",
              "    <tr>\n",
              "      <th>1</th>\n",
              "      <td>0</td>\n",
              "      <td>20120528192215Z</td>\n",
              "      <td>i really dont understand your pointxa0 it seem...</td>\n",
              "    </tr>\n",
              "    <tr>\n",
              "      <th>2</th>\n",
              "      <td>0</td>\n",
              "      <td>NaN</td>\n",
              "      <td>axc2xa0majority of canadians can and have be w...</td>\n",
              "    </tr>\n",
              "    <tr>\n",
              "      <th>3</th>\n",
              "      <td>0</td>\n",
              "      <td>NaN</td>\n",
              "      <td>listen if you dont wanna get marry to a man or...</td>\n",
              "    </tr>\n",
              "    <tr>\n",
              "      <th>4</th>\n",
              "      <td>0</td>\n",
              "      <td>20120619094753Z</td>\n",
              "      <td>cxe1c bu1ea1n xuu1ed1ng u0111u01b0u1eddng biu1...</td>\n",
              "    </tr>\n",
              "    <tr>\n",
              "      <th>...</th>\n",
              "      <td>...</td>\n",
              "      <td>...</td>\n",
              "      <td>...</td>\n",
              "    </tr>\n",
              "    <tr>\n",
              "      <th>3942</th>\n",
              "      <td>1</td>\n",
              "      <td>20120502172717Z</td>\n",
              "      <td>you be both morons and that be never happen</td>\n",
              "    </tr>\n",
              "    <tr>\n",
              "      <th>3943</th>\n",
              "      <td>0</td>\n",
              "      <td>20120528164814Z</td>\n",
              "      <td>many toolbars include spell check like yahoo f...</td>\n",
              "    </tr>\n",
              "    <tr>\n",
              "      <th>3944</th>\n",
              "      <td>0</td>\n",
              "      <td>20120620142813Z</td>\n",
              "      <td>lambeauorwrigleyxa0xa0kmossxa0nsioux fall sd i...</td>\n",
              "    </tr>\n",
              "    <tr>\n",
              "      <th>3945</th>\n",
              "      <td>0</td>\n",
              "      <td>20120528205648Z</td>\n",
              "      <td>how about felix he be sure turn into one hell ...</td>\n",
              "    </tr>\n",
              "    <tr>\n",
              "      <th>3946</th>\n",
              "      <td>0</td>\n",
              "      <td>20120515200734Z</td>\n",
              "      <td>youre all upset defend this hipster bandand be...</td>\n",
              "    </tr>\n",
              "  </tbody>\n",
              "</table>\n",
              "<p>3947 rows × 3 columns</p>\n",
              "</div>"
            ],
            "text/plain": [
              "      Insult             Date  \\\n",
              "0          1  20120618192155Z   \n",
              "1          0  20120528192215Z   \n",
              "2          0              NaN   \n",
              "3          0              NaN   \n",
              "4          0  20120619094753Z   \n",
              "...      ...              ...   \n",
              "3942       1  20120502172717Z   \n",
              "3943       0  20120528164814Z   \n",
              "3944       0  20120620142813Z   \n",
              "3945       0  20120528205648Z   \n",
              "3946       0  20120515200734Z   \n",
              "\n",
              "                                                Comment  \n",
              "0                                     you fuck your dad  \n",
              "1     i really dont understand your pointxa0 it seem...  \n",
              "2     axc2xa0majority of canadians can and have be w...  \n",
              "3     listen if you dont wanna get marry to a man or...  \n",
              "4     cxe1c bu1ea1n xuu1ed1ng u0111u01b0u1eddng biu1...  \n",
              "...                                                 ...  \n",
              "3942        you be both morons and that be never happen  \n",
              "3943  many toolbars include spell check like yahoo f...  \n",
              "3944  lambeauorwrigleyxa0xa0kmossxa0nsioux fall sd i...  \n",
              "3945  how about felix he be sure turn into one hell ...  \n",
              "3946  youre all upset defend this hipster bandand be...  \n",
              "\n",
              "[3947 rows x 3 columns]"
            ]
          },
          "metadata": {
            "tags": []
          },
          "execution_count": 79
        }
      ]
    },
    {
      "cell_type": "code",
      "metadata": {
        "id": "Kggu5yw3Fkuu",
        "outputId": "a5d163bb-d83a-4488-a7eb-725811ff61a9"
      },
      "source": [
        "#Tokenization and Lemmanization in test data\n",
        "w_tokenizer = nltk.tokenize.WhitespaceTokenizer()\n",
        "lemmatizer = nltk.stem.WordNetLemmatizer()\n",
        "\n",
        "def lemmatize_text(text):\n",
        "    return \" \".join([lemmatizer.lemmatize(w, pos=\"v\") for w in w_tokenizer.tokenize(text)])\n",
        "\n",
        "ts_df = pd.read_pickle(\"test_df.pkl\")\n",
        "\n",
        "ts_df['Comment'] = ts_df.Comment.apply(lemmatize_text).copy()\n",
        "\n",
        "ts_df"
      ],
      "execution_count": null,
      "outputs": [
        {
          "output_type": "execute_result",
          "data": {
            "text/html": [
              "<div>\n",
              "<style scoped>\n",
              "    .dataframe tbody tr th:only-of-type {\n",
              "        vertical-align: middle;\n",
              "    }\n",
              "\n",
              "    .dataframe tbody tr th {\n",
              "        vertical-align: top;\n",
              "    }\n",
              "\n",
              "    .dataframe thead th {\n",
              "        text-align: right;\n",
              "    }\n",
              "</style>\n",
              "<table border=\"1\" class=\"dataframe\">\n",
              "  <thead>\n",
              "    <tr style=\"text-align: right;\">\n",
              "      <th></th>\n",
              "      <th>id</th>\n",
              "      <th>Insult</th>\n",
              "      <th>Date</th>\n",
              "      <th>Comment</th>\n",
              "      <th>Usage</th>\n",
              "    </tr>\n",
              "  </thead>\n",
              "  <tbody>\n",
              "    <tr>\n",
              "      <th>0</th>\n",
              "      <td>1</td>\n",
              "      <td>0</td>\n",
              "      <td>20120603163526Z</td>\n",
              "      <td>like this if you be a tribe fan</td>\n",
              "      <td>PrivateTest</td>\n",
              "    </tr>\n",
              "    <tr>\n",
              "      <th>1</th>\n",
              "      <td>2</td>\n",
              "      <td>1</td>\n",
              "      <td>20120531215447Z</td>\n",
              "      <td>youre idiot</td>\n",
              "      <td>PrivateTest</td>\n",
              "    </tr>\n",
              "    <tr>\n",
              "      <th>2</th>\n",
              "      <td>3</td>\n",
              "      <td>1</td>\n",
              "      <td>20120823164228Z</td>\n",
              "      <td>i be a woman babs and the only war on women i ...</td>\n",
              "      <td>PrivateTest</td>\n",
              "    </tr>\n",
              "    <tr>\n",
              "      <th>3</th>\n",
              "      <td>4</td>\n",
              "      <td>1</td>\n",
              "      <td>20120826010752Z</td>\n",
              "      <td>wow you benefit so many win this year from his...</td>\n",
              "      <td>PrivateTest</td>\n",
              "    </tr>\n",
              "    <tr>\n",
              "      <th>4</th>\n",
              "      <td>5</td>\n",
              "      <td>1</td>\n",
              "      <td>20120602223825Z</td>\n",
              "      <td>haha green me red you now loser whos win now m...</td>\n",
              "      <td>PrivateTest</td>\n",
              "    </tr>\n",
              "    <tr>\n",
              "      <th>...</th>\n",
              "      <td>...</td>\n",
              "      <td>...</td>\n",
              "      <td>...</td>\n",
              "      <td>...</td>\n",
              "      <td>...</td>\n",
              "    </tr>\n",
              "    <tr>\n",
              "      <th>2230</th>\n",
              "      <td>2231</td>\n",
              "      <td>0</td>\n",
              "      <td>20120528100303Z</td>\n",
              "      <td>fuckin lame come on wtf stop fuck over my bity...</td>\n",
              "      <td>PrivateTest</td>\n",
              "    </tr>\n",
              "    <tr>\n",
              "      <th>2231</th>\n",
              "      <td>2232</td>\n",
              "      <td>1</td>\n",
              "      <td>20120531185813Z</td>\n",
              "      <td>you shut your ignorant pie hole you little ins...</td>\n",
              "      <td>PrivateTest</td>\n",
              "    </tr>\n",
              "    <tr>\n",
              "      <th>2232</th>\n",
              "      <td>2233</td>\n",
              "      <td>0</td>\n",
              "      <td>20120529130822Z</td>\n",
              "      <td>sweetie pie be look very much like her cousin ...</td>\n",
              "      <td>PrivateTest</td>\n",
              "    </tr>\n",
              "    <tr>\n",
              "      <th>2233</th>\n",
              "      <td>2234</td>\n",
              "      <td>1</td>\n",
              "      <td>20120531045826Z</td>\n",
              "      <td>ball4real where be you with your miami gayness</td>\n",
              "      <td>PrivateTest</td>\n",
              "    </tr>\n",
              "    <tr>\n",
              "      <th>2234</th>\n",
              "      <td>2235</td>\n",
              "      <td>0</td>\n",
              "      <td>20120531184524Z</td>\n",
              "      <td>manif you be a 3 point shooter you must love p...</td>\n",
              "      <td>PrivateTest</td>\n",
              "    </tr>\n",
              "  </tbody>\n",
              "</table>\n",
              "<p>2235 rows × 5 columns</p>\n",
              "</div>"
            ],
            "text/plain": [
              "        id  Insult             Date  \\\n",
              "0        1       0  20120603163526Z   \n",
              "1        2       1  20120531215447Z   \n",
              "2        3       1  20120823164228Z   \n",
              "3        4       1  20120826010752Z   \n",
              "4        5       1  20120602223825Z   \n",
              "...    ...     ...              ...   \n",
              "2230  2231       0  20120528100303Z   \n",
              "2231  2232       1  20120531185813Z   \n",
              "2232  2233       0  20120529130822Z   \n",
              "2233  2234       1  20120531045826Z   \n",
              "2234  2235       0  20120531184524Z   \n",
              "\n",
              "                                                Comment        Usage  \n",
              "0                       like this if you be a tribe fan  PrivateTest  \n",
              "1                                           youre idiot  PrivateTest  \n",
              "2     i be a woman babs and the only war on women i ...  PrivateTest  \n",
              "3     wow you benefit so many win this year from his...  PrivateTest  \n",
              "4     haha green me red you now loser whos win now m...  PrivateTest  \n",
              "...                                                 ...          ...  \n",
              "2230  fuckin lame come on wtf stop fuck over my bity...  PrivateTest  \n",
              "2231  you shut your ignorant pie hole you little ins...  PrivateTest  \n",
              "2232  sweetie pie be look very much like her cousin ...  PrivateTest  \n",
              "2233     ball4real where be you with your miami gayness  PrivateTest  \n",
              "2234  manif you be a 3 point shooter you must love p...  PrivateTest  \n",
              "\n",
              "[2235 rows x 5 columns]"
            ]
          },
          "metadata": {
            "tags": []
          },
          "execution_count": 80
        }
      ]
    },
    {
      "cell_type": "markdown",
      "metadata": {
        "id": "QrWOskpGFkux"
      },
      "source": [
        "##    <span style='color:Blue'>*Step 2:* </span> Vectorization"
      ]
    },
    {
      "cell_type": "markdown",
      "metadata": {
        "id": "zxwxbjj8Fkuy"
      },
      "source": [
        "### TF-IDF"
      ]
    },
    {
      "cell_type": "code",
      "metadata": {
        "id": "xb0goNudFkuy",
        "outputId": "623f2644-c59a-493f-9fa7-849d9fb3e676"
      },
      "source": [
        "from sklearn.feature_extraction.text import TfidfVectorizer\n",
        "\n",
        "train = tr_df['Comment'].tolist()\n",
        "test = ts_df['Comment'].tolist()\n",
        "\n",
        "tfidf_vectorizer = TfidfVectorizer(max_features=1700)\n",
        "tfidfX_train = tfidf_vectorizer.fit_transform(train)\n",
        "tfidfX_test = tfidf_vectorizer.transform(test)\n",
        "\n",
        "print(\"TF-IDF train shape:\", tfidfX_train.shape)\n",
        "print(\"TF-IDF test shape:\", tfidfX_test.shape)\n",
        "\n",
        "tfidfX_train_array = tfidfX_train.toarray()\n",
        "tfidfX_test_array = tfidfX_test.toarray()"
      ],
      "execution_count": null,
      "outputs": [
        {
          "output_type": "stream",
          "text": [
            "TF-IDF train shape: (3947, 1700)\n",
            "TF-IDF test shape: (2235, 1700)\n"
          ],
          "name": "stdout"
        }
      ]
    },
    {
      "cell_type": "markdown",
      "metadata": {
        "id": "ktBRJMZRFku3"
      },
      "source": [
        "##    <span style='color:Blue'>*Step 2:* </span> Create a Merged Table from Part-of-Speech Based Features and TF-IDF Based Features"
      ]
    },
    {
      "cell_type": "markdown",
      "metadata": {
        "id": "0ET83rYRFku3"
      },
      "source": [
        "*Here I decided to add to the number of verbs, nouns, adverbs and adjectives, the number of **pronouns**. This is because, as I studied the comments, I noticed that a comment is considered to be insult when it is addressed to a natural person, and not if it contains only offensive words. In short, a comment that contains swear words may not be offensive because it does not offend anyone.*\n",
        "\n",
        "\n",
        "e.g.\n",
        "- You are stupid. -> Insult\n",
        "- This is stupid. -> NOT Insult"
      ]
    },
    {
      "cell_type": "markdown",
      "metadata": {
        "id": "V9R1S9BuFku3"
      },
      "source": [
        "### α. Part-of-speech Tagger for train data"
      ]
    },
    {
      "cell_type": "code",
      "metadata": {
        "id": "b-8WISEUFku5",
        "outputId": "1839c297-b992-4d2e-ff99-73f119e82625"
      },
      "source": [
        "import nltk\n",
        "\n",
        "merged_list_train = []\n",
        "\n",
        "for i, row in train_df.iterrows():\n",
        "    \n",
        "    list_of_pos_tags = []\n",
        "    noun = 0.00\n",
        "    verb = 0.00\n",
        "    adverb = 0.00\n",
        "    adjective = 0.00\n",
        "    pronoun = 0.00\n",
        "    \n",
        "    list_of_pos_tags = nltk.pos_tag(nltk.word_tokenize(train_df.loc[i,'Comment']))\n",
        "    #Find the number of nouns,verbs,adverbs and adjectives of each comment\n",
        "    for tpl in list_of_pos_tags:\n",
        "        if tpl[1] == \"NN\" or tpl[1] == \"NNS\":\n",
        "            noun = noun + 1\n",
        "        if tpl[1] == \"VB\" or tpl[1] == \"VBD\" or tpl[1] == \"VBG\" or tpl[1] == \"VBN\" or tpl[1] == \"VBP\" or tpl[1] == \"VBZ\":\n",
        "            verb = verb + 1\n",
        "        if tpl[1] == \"RB\" or tpl[1] == \"RBR\" or tpl[1] == \"RBS\":\n",
        "            adverb = adverb + 1\n",
        "        if tpl[1] == \"JJ\" or tpl[1] == \"JJR\" or tpl[1] == \"JJS\":\n",
        "            adjective = adjective + 1\n",
        "        if tpl[1] == \"PRP\" or tpl[1] == \"PRP$\" or tpl[1] == \"JJS\":\n",
        "            pronoun = pronoun + 1\n",
        "    \n",
        "    #Find the percentage of nouns,verbs,adverbs and adjectives of each comment\n",
        "    if len(list_of_pos_tags) != 0:\n",
        "        fractionAdverbs = adverb/len(list_of_pos_tags)\n",
        "        fractionVerbs = verb/len(list_of_pos_tags)\n",
        "        fractionAdjectives = adjective/len(list_of_pos_tags)\n",
        "        fractionNouns = noun/len(list_of_pos_tags)\n",
        "        fractionPronouns = pronoun/len(list_of_pos_tags)\n",
        "    \n",
        "#     print(fractionNouns, fractionVerbs, fractionAdverbs, fractionAdjectives)\n",
        "    \n",
        "    temp = []\n",
        "    #Concatenate the Part-of-Speech Based Features and TF-IDF Based Features in a list\n",
        "    temp = tfidfX_train_array[i].tolist()\n",
        "    temp.append(noun)\n",
        "    temp.append(verb)\n",
        "    temp.append(adverb)\n",
        "    temp.append(adjective)\n",
        "    temp.append(pronoun)\n",
        "    \n",
        "    merged_list_train.append(temp)\n",
        "    \n",
        "#Convert the concatenated list to np array\n",
        "merged_array_train = np.array(merged_list_train)\n",
        "print(\"Shape of final merged train array:\", merged_array_train.shape)"
      ],
      "execution_count": null,
      "outputs": [
        {
          "output_type": "stream",
          "text": [
            "Shape of final merged train array: (3947, 1705)\n"
          ],
          "name": "stdout"
        }
      ]
    },
    {
      "cell_type": "markdown",
      "metadata": {
        "id": "hQ98gWvYFku7"
      },
      "source": [
        "### b. Part-of-speech Tagger for test data"
      ]
    },
    {
      "cell_type": "code",
      "metadata": {
        "id": "oOD7Eq-zFku8",
        "outputId": "c8b5adcf-eea9-4369-f330-4b885c4b2dfa"
      },
      "source": [
        "import nltk\n",
        "\n",
        "merged_list_test = []\n",
        "\n",
        "for i, row in test_df.iterrows():\n",
        "    \n",
        "    list_of_pos_tags = []\n",
        "    noun = 0.00\n",
        "    verb = 0.00\n",
        "    adverb = 0.00\n",
        "    adjective = 0.00\n",
        "    pronoun = 0.00\n",
        "    \n",
        "    list_of_pos_tags = nltk.pos_tag(nltk.word_tokenize(test_df.loc[i,'Comment']))\n",
        "    #Find the number of nouns,verbs,adverbs and adjectives of each comment\n",
        "    for tpl in list_of_pos_tags:\n",
        "        if tpl[1] == \"NN\" or tpl[1] == \"NNS\":\n",
        "            noun = noun + 1\n",
        "        if tpl[1] == \"VB\" or tpl[1] == \"VBD\" or tpl[1] == \"VBG\" or tpl[1] == \"VBN\" or tpl[1] == \"VBP\" or tpl[1] == \"VBZ\":\n",
        "            verb = verb + 1\n",
        "        if tpl[1] == \"RB\" or tpl[1] == \"RBR\" or tpl[1] == \"RBS\":\n",
        "            adverb = adverb + 1\n",
        "        if tpl[1] == \"JJ\" or tpl[1] == \"JJR\" or tpl[1] == \"JJS\":\n",
        "            adjective = adjective + 1\n",
        "        if tpl[1] == \"PRP\" or tpl[1] == \"PRP$\" or tpl[1] == \"JJS\":\n",
        "            pronoun = pronoun + 1\n",
        "    \n",
        "    #Find the percentage of nouns,verbs,adverbs and adjectives of each comment\n",
        "    if len(list_of_pos_tags) != 0:\n",
        "        fractionAdverbs = adverb/len(list_of_pos_tags)\n",
        "        fractionVerbs = verb/len(list_of_pos_tags)\n",
        "        fractionAdjectives = adjective/len(list_of_pos_tags)\n",
        "        fractionNouns = noun/len(list_of_pos_tags)\n",
        "        fractionPronouns = pronoun/len(list_of_pos_tags)\n",
        "    \n",
        "#     print(fractionNouns, fractionVerbs, fractionAdverbs, fractionAdjectives)\n",
        "    \n",
        "    temp = []\n",
        "    #Concatenate the Part-of-Speech Based Features and TF-IDF Based Features in a list\n",
        "    temp = tfidfX_test_array[i].tolist()\n",
        "    temp.append(noun)\n",
        "    temp.append(verb)\n",
        "    temp.append(adverb)\n",
        "    temp.append(adjective)\n",
        "    temp.append(pronoun)\n",
        "    \n",
        "    merged_list_test.append(temp)\n",
        "\n",
        "#Convert the concatenated list to np array\n",
        "merged_array_test = np.array(merged_list_test)\n",
        "print(\"Shape of final merged test array:\", merged_array_test.shape)"
      ],
      "execution_count": null,
      "outputs": [
        {
          "output_type": "stream",
          "text": [
            "Shape of final merged test array: (2235, 1705)\n"
          ],
          "name": "stdout"
        }
      ]
    },
    {
      "cell_type": "markdown",
      "metadata": {
        "id": "hsdPWu9rFku-"
      },
      "source": [
        "##    <span style='color:Blue'>*Step 3:* </span>  Try different Classification Methods and evaluate them"
      ]
    },
    {
      "cell_type": "markdown",
      "metadata": {
        "id": "fFDkm0UsFku_"
      },
      "source": [
        "*Here I decided to use SVM with different parameters and Logistic Regression to see if it will give me better results.*"
      ]
    },
    {
      "cell_type": "code",
      "metadata": {
        "id": "sTDuOQ40Fku_",
        "outputId": "afaf3d99-f188-41a7-f6a7-418d12f59d1a"
      },
      "source": [
        "from sklearn import svm \n",
        "from sklearn.model_selection import cross_val_score\n",
        "from sklearn.model_selection import GridSearchCV\n",
        "from sklearn.metrics import precision_score,recall_score,f1_score,accuracy_score,make_scorer\n",
        "from sklearn import linear_model\n",
        "\n",
        "gs_svc = svm.SVC(kernel='rbf',C=1759,gamma=0.001)\n",
        "gs_svc.fit(merged_array_train, label_train)\n",
        "predictions = gs_svc.predict(merged_array_test)\n",
        "\n",
        "#F1 \n",
        "svm1_tfidf_f1_test_score = \"{:.2f}\".format(f1_score(label_test,predictions,average='weighted'))\n",
        "print('F1 score of Tfidf with SVM Classifier: ' , svm1_tfidf_f1_test_score)\n",
        "\n",
        "#Accuracy\n",
        "svm1_tfidf_acc_test_score = \"{:.2f}\".format(accuracy_score(label_test,predictions))\n",
        "print('Accuracy score of Tfidf with SVM Classifier: ' , svm1_tfidf_acc_test_score)"
      ],
      "execution_count": null,
      "outputs": [
        {
          "output_type": "stream",
          "text": [
            "F1 score of Tfidf with SVM Classifier:  0.70\n",
            "Accuracy score of Tfidf with SVM Classifier:  0.71\n"
          ],
          "name": "stdout"
        }
      ]
    },
    {
      "cell_type": "code",
      "metadata": {
        "id": "GGfKFglqFkvB",
        "outputId": "4cfda2f4-92bc-43be-bb2a-2e104b103cd2"
      },
      "source": [
        "from sklearn import linear_model\n",
        "\n",
        "logreg = linear_model.LogisticRegression(C=8, max_iter=1700)\n",
        "logreg.fit(merged_array_train, label_train)\n",
        "predictions = logreg.predict(merged_array_test)\n",
        "\n",
        "#F1 \n",
        "lg_tfidf_f1_test_score = \"{:.2f}\".format(f1_score(label_test,predictions,average='weighted'))\n",
        "print('F1 score of Tfidf with Logistic Regression Classifier: ' , lg_tfidf_f1_test_score)\n",
        "\n",
        "#Accuracy\n",
        "lg_tfidf_acc_test_score = \"{:.2f}\".format(accuracy_score(label_test,predictions))\n",
        "print('Accuracy score of Tfidf with Logistic Regression Classifier: ' , lg_tfidf_acc_test_score)"
      ],
      "execution_count": null,
      "outputs": [
        {
          "output_type": "stream",
          "text": [
            "F1 score of Tfidf with Logistic Regression Classifier:  0.69\n",
            "Accuracy score of Tfidf with Logistic Regression Classifier:  0.70\n"
          ],
          "name": "stdout"
        }
      ]
    },
    {
      "cell_type": "markdown",
      "metadata": {
        "id": "GW4UOZSiFkvF"
      },
      "source": [
        "##   <span style='color:Blue'>*Step 4:* </span>   Summary of results"
      ]
    },
    {
      "cell_type": "code",
      "metadata": {
        "id": "mDI910GyFkvF",
        "outputId": "d4f5b696-849e-435a-9a73-a3ae501ef5d1"
      },
      "source": [
        "all_f1 = []\n",
        "all_accuracy = []\n",
        "\n",
        "all_f1.append(nb_bow_f1_test_score_0)\n",
        "all_f1.append(nb_bow_f1_test_score_4)\n",
        "all_f1.append(svm_tfidf_f1_test_score)\n",
        "all_f1.append(rf_tfidf_f1_test_score)\n",
        "all_f1.append(svm1_tfidf_f1_test_score)\n",
        "all_f1.append(lg_tfidf_f1_test_score)\n",
        "\n",
        "all_accuracy.append(nb_bow_acc_test_score_0)\n",
        "all_accuracy.append(nb_bow_acc_test_score_4)\n",
        "all_accuracy.append(svm_tfidf_acc_test_score)\n",
        "all_accuracy.append(rf_tfidf_acc_test_score)\n",
        "all_accuracy.append(svm1_tfidf_acc_test_score)\n",
        "all_accuracy.append(lg_tfidf_acc_test_score)\n",
        "\n",
        "data = {'Method': ['NaiveBayes', 'NB_Laplace', 'SVM_1', 'RandomForest', 'SVM_2', 'LogisticRegression'],\n",
        "            'F1': all_f1,\n",
        "            'Accuracy': all_accuracy\n",
        "           }\n",
        "df = pd.DataFrame(data, columns = ['Method', 'F1', 'Accuracy'])\n",
        "df"
      ],
      "execution_count": null,
      "outputs": [
        {
          "output_type": "execute_result",
          "data": {
            "text/html": [
              "<div>\n",
              "<style scoped>\n",
              "    .dataframe tbody tr th:only-of-type {\n",
              "        vertical-align: middle;\n",
              "    }\n",
              "\n",
              "    .dataframe tbody tr th {\n",
              "        vertical-align: top;\n",
              "    }\n",
              "\n",
              "    .dataframe thead th {\n",
              "        text-align: right;\n",
              "    }\n",
              "</style>\n",
              "<table border=\"1\" class=\"dataframe\">\n",
              "  <thead>\n",
              "    <tr style=\"text-align: right;\">\n",
              "      <th></th>\n",
              "      <th>Method</th>\n",
              "      <th>F1</th>\n",
              "      <th>Accuracy</th>\n",
              "    </tr>\n",
              "  </thead>\n",
              "  <tbody>\n",
              "    <tr>\n",
              "      <th>0</th>\n",
              "      <td>NaiveBayes</td>\n",
              "      <td>0.53</td>\n",
              "      <td>0.53</td>\n",
              "    </tr>\n",
              "    <tr>\n",
              "      <th>1</th>\n",
              "      <td>NB_Laplace</td>\n",
              "      <td>0.67</td>\n",
              "      <td>0.68</td>\n",
              "    </tr>\n",
              "    <tr>\n",
              "      <th>2</th>\n",
              "      <td>SVM_1</td>\n",
              "      <td>0.61</td>\n",
              "      <td>0.65</td>\n",
              "    </tr>\n",
              "    <tr>\n",
              "      <th>3</th>\n",
              "      <td>RandomForest</td>\n",
              "      <td>0.60</td>\n",
              "      <td>0.64</td>\n",
              "    </tr>\n",
              "    <tr>\n",
              "      <th>4</th>\n",
              "      <td>SVM_2</td>\n",
              "      <td>0.70</td>\n",
              "      <td>0.71</td>\n",
              "    </tr>\n",
              "    <tr>\n",
              "      <th>5</th>\n",
              "      <td>LogisticRegression</td>\n",
              "      <td>0.69</td>\n",
              "      <td>0.70</td>\n",
              "    </tr>\n",
              "  </tbody>\n",
              "</table>\n",
              "</div>"
            ],
            "text/plain": [
              "               Method    F1 Accuracy\n",
              "0          NaiveBayes  0.53     0.53\n",
              "1          NB_Laplace  0.67     0.68\n",
              "2               SVM_1  0.61     0.65\n",
              "3        RandomForest  0.60     0.64\n",
              "4               SVM_2  0.70     0.71\n",
              "5  LogisticRegression  0.69     0.70"
            ]
          },
          "metadata": {
            "tags": []
          },
          "execution_count": 86
        }
      ]
    },
    {
      "cell_type": "markdown",
      "metadata": {
        "id": "iAkzgY1HFkvH"
      },
      "source": [
        "- Naive Bayes: The initial evaluation with the basic preprocessing\n",
        "- NB_Laplace: Naive Bayes after Laplace Smoothing (because he had the best score)\n",
        "- SVM_1: SVM using tf-idf and pos-tags\n",
        "- RandomForest: RandomForest using merged tf-idf table and pos-tags\n",
        "- SVM_2: SVM using merged array tf-idf and pos-tags after Lemmanization and adding pronouns\n",
        "- LogisticRegression: LogisticRegression using the merged tf-idf table and pos-tags after Lemmanization and addition of pronouns)"
      ]
    },
    {
      "cell_type": "code",
      "metadata": {
        "id": "pHSbUlp_FkvI",
        "outputId": "0f545b4b-4dd4-4771-97ba-9cd79f0c9bf1"
      },
      "source": [
        "\"\"\"\n",
        "We represented the above information\n",
        "in the form of bars.\n",
        "\"\"\"\n",
        "\n",
        "sns.set(rc={'figure.figsize':(15,10)})\n",
        "ax = sns.barplot(x='Method', y='F1', data=df, palette='tab20')\\\n",
        "                    .set_title('F1 Scores per Classification Method',fontsize=22)\n",
        "\n",
        "plt.xticks(rotation=0)\n",
        "plt.xlabel('Classification Method', fontsize=18)\n",
        "plt.ylabel('F1 Score', fontsize=18)\n",
        "plt.tick_params(axis='x', labelsize=15)\n",
        "plt.tick_params(axis='y', labelsize=15)\n",
        "plt.ylim(0.5, 0.75)\n"
      ],
      "execution_count": null,
      "outputs": [
        {
          "output_type": "execute_result",
          "data": {
            "text/plain": [
              "(0.5, 0.75)"
            ]
          },
          "metadata": {
            "tags": []
          },
          "execution_count": 87
        },
        {
          "output_type": "display_data",
          "data": {
            "image/png": "[encoded data removed]",
            "text/plain": [
              "<Figure size 1080x720 with 1 Axes>"
            ]
          },
          "metadata": {
            "tags": []
          }
        }
      ]
    },
    {
      "cell_type": "code",
      "metadata": {
        "id": "J470Au4sFkvL",
        "outputId": "c2fda10a-497a-45ad-b6fa-7d85efa24969"
      },
      "source": [
        "\"\"\"\n",
        "We represented the above information\n",
        "in the form of bars.\n",
        "\"\"\"\n",
        "\n",
        "sns.set(rc={'figure.figsize':(15,10)})\n",
        "ax = sns.barplot(x='Method', y='Accuracy', data=df, palette='husl')\\\n",
        "                    .set_title('Accuracy Scores per Classification Method',fontsize=22)\n",
        "\n",
        "plt.xticks(rotation=0)\n",
        "plt.xlabel('Classification Method', fontsize=18)\n",
        "plt.ylabel('Accuracy Score', fontsize=18)\n",
        "plt.tick_params(axis='x', labelsize=15)\n",
        "plt.tick_params(axis='y', labelsize=15)\n",
        "plt.ylim(0.5, 0.75)"
      ],
      "execution_count": null,
      "outputs": [
        {
          "output_type": "execute_result",
          "data": {
            "text/plain": [
              "(0.5, 0.75)"
            ]
          },
          "metadata": {
            "tags": []
          },
          "execution_count": 88
        },
        {
          "output_type": "display_data",
          "data": {
            "image/png": "[encoded data removed]",
            "text/plain": [
              "<Figure size 1080x720 with 1 Axes>"
            ]
          },
          "metadata": {
            "tags": []
          }
        }
      ]
    },
    {
      "cell_type": "markdown",
      "metadata": {
        "id": "hNNNj1aBFkvO"
      },
      "source": [
        "##    <span style='color:Blue'>*Step 5:* </span>   Summaries"
      ]
    },
    {
      "cell_type": "markdown",
      "metadata": {
        "id": "h6owq0fDFkvO"
      },
      "source": [
        "According to the above representation of the results we observe that:\n",
        "\n",
        "- The classification method Naive Bayes without any optimization and/or data cleaning had the worst score than all (~ 0.53).\n",
        "- Using the merged tf-idf table and pos-tags, the SVM method achieved an Accuracy score of ~ 0.65 and did better than the Random Forest method, which in the same data reached a score of ~ 0.60.\n",
        "- After the optimization with Lemmatization and the addition of pronouns in the pos tags, we notice a large deviation to the score of SVM (~ 0.71). This happens mainly because the appropriate lemmatization was done in the data, but the addition of personal pronouns also played an important role, because as pointed out above, insult is not considered a comment that contains simply offensive words but when it is addressed to someone offensively. I also experimented a lot with the parameters using GridSearchCV to find those features that will give me the best possible result.\n",
        "- I decided to try another method Logistic Regression to see if it will give me better results, but it did not manage to surpass the SVM scores.\n",
        "- The best performance had SVM and Logistic Regression after the optimization I did in general.\n",
        "- I tried other methods and features, but none of them exceeded the performance of SVM, so I did not list them in the final notebook.\n",
        "- In general, although SVM was slower than all the methods during its execution and required more time, it always had the best performance compared to the other methods, as seen in the diagramms.\n",
        "- I also tried different data preprocessing and different classification methods, but the performance of the algorithms did not differ much from before when there I did no do some \"serious\" data preprocessing. In short, no matter how much optimization I did, the score did not increase by more than 0.05%. This is because our data is quite difficult for algorithms, as they contain many slangs, innovations and words that do not have any meaning (eg bitcizzz, azzhole, f@k! Etc). For this reason, no matter how well the data was pre-processed, it was never enough for an algorithm to recognize these cases.\n",
        "- It is worth metioning that the Naive Bayes method with Laplace Smoothing (with BoW vectorization) came quite close to the final optimization done with SVM (with tf-idf vectorization)\n"
      ]
    }
  ]
}